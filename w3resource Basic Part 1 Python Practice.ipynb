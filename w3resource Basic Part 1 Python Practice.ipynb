{
 "cells": [
  {
   "cell_type": "code",
   "execution_count": 1,
   "metadata": {},
   "outputs": [
    {
     "name": "stdout",
     "output_type": "stream",
     "text": [
      "Twinkle, twinkle, little star,\n",
      "\tHow I wonder what you are!\n",
      "\t\tUp above the world so high,\n",
      "\t\tLike a diamond in the sky\n",
      "Twinkle, twinkle, little star,\n",
      "\tHow I wonder what you are\n"
     ]
    }
   ],
   "source": [
    "#Problem: Print the string a particular format\n",
    "print(\"Twinkle, twinkle, little star,\")\n",
    "print(\"\\tHow I wonder what you are!\")\n",
    "print(\"\\t\\tUp above the world so high,\")\n",
    "print(\"\\t\\tLike a diamond in the sky\")\n",
    "print(\"Twinkle, twinkle, little star,\")\n",
    "print(\"\\tHow I wonder what you are\")"
   ]
  },
  {
   "cell_type": "code",
   "execution_count": 2,
   "metadata": {},
   "outputs": [
    {
     "name": "stdout",
     "output_type": "stream",
     "text": [
      "Python Version\n",
      "3.7.4 (default, Aug  9 2019, 18:34:13) [MSC v.1915 64 bit (AMD64)]\n",
      "Version info.\n",
      "sys.version_info(major=3, minor=7, micro=4, releaselevel='final', serial=0)\n"
     ]
    }
   ],
   "source": [
    "#Problem: Print Python version\n",
    "import sys\n",
    "print(\"Python Version\")\n",
    "print(sys.version)\n",
    "print(\"Version info.\")\n",
    "print(sys.version_info)"
   ]
  },
  {
   "cell_type": "code",
   "execution_count": 3,
   "metadata": {},
   "outputs": [
    {
     "name": "stdout",
     "output_type": "stream",
     "text": [
      "Current date and time :\n",
      "2021-05-03 22:38:30\n"
     ]
    }
   ],
   "source": [
    "#Problem: Print Date & Time\n",
    "import datetime\n",
    "now = datetime.datetime.now()\n",
    "print (\"Current date and time :\")\n",
    "print (now.strftime(\"%Y-%m-%d %H:%M:%S\"))"
   ]
  },
  {
   "cell_type": "code",
   "execution_count": 4,
   "metadata": {},
   "outputs": [
    {
     "name": "stdout",
     "output_type": "stream",
     "text": [
      "Input the radius of the circle : 1.1\n",
      "The area of the circle with radius 1.1 is: 3.8013271108436504\n"
     ]
    }
   ],
   "source": [
    "#Problem: Accepts radius of circle and computes area\n",
    "from math import pi\n",
    "r = float(input(\"Input the radius of the circle : \"))\n",
    "print (\"The area of the circle with radius \" + str(r) + \" is: \" + str(pi*r**2))"
   ]
  },
  {
   "cell_type": "code",
   "execution_count": 5,
   "metadata": {},
   "outputs": [
    {
     "name": "stdout",
     "output_type": "stream",
     "text": [
      "Enter First Name : AB\n",
      "Enter Second Name : IOP\n",
      "The Name is IOP AB\n"
     ]
    }
   ],
   "source": [
    "#Problem: Accepts First & Last Name and print them in reverse order\n",
    "A = str(input(\"Enter First Name : \"))\n",
    "B = str(input(\"Enter Second Name : \"))\n",
    "print (\"The Name is \" + str(B) + \" \" + str (A))"
   ]
  },
  {
   "cell_type": "code",
   "execution_count": 6,
   "metadata": {},
   "outputs": [
    {
     "name": "stdout",
     "output_type": "stream",
     "text": [
      "Input some comma separated numbers : 3,5,6,90\n",
      "List :  ['3', '5', '6', '90']\n",
      "Tuple :  ('3', '5', '6', '90')\n"
     ]
    }
   ],
   "source": [
    "#Problem: Accepts a sequence of comma-separated numbers from user and generate a list and a tuple\n",
    "values = input(\"Input some comma separated numbers : \")\n",
    "list = values.split(\",\")\n",
    "tuple = tuple(list)\n",
    "print('List : ',list)\n",
    "print('Tuple : ',tuple)"
   ]
  },
  {
   "cell_type": "code",
   "execution_count": 7,
   "metadata": {},
   "outputs": [
    {
     "name": "stdout",
     "output_type": "stream",
     "text": [
      "Input the Filename: abc.dat\n",
      "The extension of the file is : 'dat'\n"
     ]
    }
   ],
   "source": [
    "#Problem: Accepts a filename & prints the extension of that\n",
    "filename = input(\"Input the Filename: \")\n",
    "f_extns = filename.split(\".\")\n",
    "print (\"The extension of the file is : \" + repr(f_extns[-1]))"
   ]
  },
  {
   "cell_type": "code",
   "execution_count": 17,
   "metadata": {},
   "outputs": [
    {
     "name": "stdout",
     "output_type": "stream",
     "text": [
      "Red Black\n",
      "Red Black\n"
     ]
    }
   ],
   "source": [
    "#Problem: Display the first and last color from the list\n",
    "color_list = [\"Red\",\"Green\",\"White\",\"Black\"]\n",
    "print (\"%s %s\"%(color_list[0],color_list[3]))\n",
    "print (\"%s %s\"%(color_list[0],color_list[-1]))"
   ]
  },
  {
   "cell_type": "code",
   "execution_count": 21,
   "metadata": {},
   "outputs": [
    {
     "name": "stdout",
     "output_type": "stream",
     "text": [
      "The examination will start from : 11 / 12 / 2014\n"
     ]
    }
   ],
   "source": [
    "#Problem: Display the exam schedule\n",
    "exam_st_date=(11,12,2014)\n",
    "print(\"The examination will start from : %i / %i / %i\"%exam_st_date)"
   ]
  },
  {
   "cell_type": "code",
   "execution_count": 31,
   "metadata": {},
   "outputs": [
    {
     "name": "stdout",
     "output_type": "stream",
     "text": [
      "Input Integer Value: 5\n",
      "The Final Value is: 615\n"
     ]
    }
   ],
   "source": [
    "#Problem: Accepts an integer n and computes the value of n+nn+nnn\n",
    "n = int(input(\"Input Integer Value: \"))\n",
    "n1 = int(\"%s\" %n)\n",
    "n2 = int(\"%s%s\" % (n,n))\n",
    "n3 = int(\"%s%s%s\" %(n,n,n))\n",
    "print (\"The Final Value is:\",n1+n2+n3)"
   ]
  },
  {
   "cell_type": "code",
   "execution_count": 33,
   "metadata": {},
   "outputs": [
    {
     "name": "stdout",
     "output_type": "stream",
     "text": [
      "Return the absolute value of the argument.\n"
     ]
    }
   ],
   "source": [
    "#Problem: Print the documents of python built-in function(s)\n",
    "print(abs.__doc__)"
   ]
  },
  {
   "cell_type": "code",
   "execution_count": 35,
   "metadata": {},
   "outputs": [
    {
     "name": "stdout",
     "output_type": "stream",
     "text": [
      "Input the year : 2021\n",
      "Input the month : 05\n",
      "      May 2021\n",
      "Mo Tu We Th Fr Sa Su\n",
      "                1  2\n",
      " 3  4  5  6  7  8  9\n",
      "10 11 12 13 14 15 16\n",
      "17 18 19 20 21 22 23\n",
      "24 25 26 27 28 29 30\n",
      "31\n",
      "\n"
     ]
    }
   ],
   "source": [
    "#Problem: Print the calendar of a given month and year\n",
    "import calendar\n",
    "y = int(input(\"Input the year : \"))\n",
    "m = int(input(\"Input the month : \"))\n",
    "print(calendar.month(y,m))"
   ]
  },
  {
   "cell_type": "code",
   "execution_count": 36,
   "metadata": {},
   "outputs": [
    {
     "name": "stdout",
     "output_type": "stream",
     "text": [
      "\n",
      "a string that you \"don't\" have to escape\n",
      "This\n",
      "is a ........ multi-line\n",
      "heredoc string --------> example\n",
      "\n"
     ]
    }
   ],
   "source": [
    "#Problem: Print the following 'here document'\n",
    "print(\"\"\"\n",
    "a string that you \"don't\" have to escape\n",
    "This\n",
    "is a ........ multi-line\n",
    "heredoc string --------> example\n",
    "\"\"\")"
   ]
  },
  {
   "cell_type": "code",
   "execution_count": 38,
   "metadata": {},
   "outputs": [
    {
     "name": "stdout",
     "output_type": "stream",
     "text": [
      "9\n"
     ]
    }
   ],
   "source": [
    "#Problem: Calculate the number of days between two dates\n",
    "from datetime import date\n",
    "f_date = date(2014,7,2)\n",
    "l_date = date(2014,7,11)\n",
    "delta = l_date - f_date\n",
    "print(delta.days)"
   ]
  },
  {
   "cell_type": "code",
   "execution_count": 42,
   "metadata": {},
   "outputs": [
    {
     "name": "stdout",
     "output_type": "stream",
     "text": [
      "Input the radius of circle: 6\n",
      "The volume of the sphere of radius 6.0 is: 904.7786842338603\n"
     ]
    }
   ],
   "source": [
    "#Problem: Calculate the volume of a sphere\n",
    "from math import pi\n",
    "r = float(input(\"Input the radius of circle: \"))\n",
    "print(\"The volume of the sphere of radius \" + str(r) + \" is: \" + str(4/3*pi*r**3))"
   ]
  },
  {
   "cell_type": "code",
   "execution_count": 45,
   "metadata": {},
   "outputs": [
    {
     "name": "stdout",
     "output_type": "stream",
     "text": [
      "10\n",
      "3\n"
     ]
    }
   ],
   "source": [
    "#Problem: Calculate the difference between a given number and 17, if number is greater than 17 return the absolute diff\n",
    "def difference(n):\n",
    "    if n<=17:\n",
    "        return 17-n\n",
    "    else:\n",
    "        return(n-17)*2\n",
    "print(difference(22))\n",
    "print(difference(14))"
   ]
  },
  {
   "cell_type": "code",
   "execution_count": 46,
   "metadata": {},
   "outputs": [
    {
     "name": "stdout",
     "output_type": "stream",
     "text": [
      "True\n",
      "True\n",
      "False\n",
      "False\n"
     ]
    }
   ],
   "source": [
    "#Problem: Test if a number is within 100 of 1000 or 2000\n",
    "def near_thousand(n):\n",
    "    return ((abs(1000-n)<=100) or (abs(2000-n)<=100))\n",
    "print(near_thousand(1000))\n",
    "print(near_thousand(900))\n",
    "print(near_thousand(800))\n",
    "print(near_thousand(2200))"
   ]
  },
  {
   "cell_type": "code",
   "execution_count": 56,
   "metadata": {},
   "outputs": [
    {
     "name": "stdout",
     "output_type": "stream",
     "text": [
      "6\n",
      "27\n"
     ]
    }
   ],
   "source": [
    "#Problem: Calculate the sum of three given numbers, if the values are equal then return three times of their sum\n",
    "def sum_thrice(x, y, z):\n",
    "\n",
    "     sum = x + y + z\n",
    "  \n",
    "     if x == y == z:\n",
    "      sum = sum * 3\n",
    "     return sum\n",
    "\n",
    "print(sum_thrice(1, 2, 3))\n",
    "print(sum_thrice(3, 3, 3))"
   ]
  },
  {
   "cell_type": "code",
   "execution_count": 58,
   "metadata": {},
   "outputs": [
    {
     "name": "stdout",
     "output_type": "stream",
     "text": [
      "IsArray\n",
      "IsEmpty\n"
     ]
    }
   ],
   "source": [
    "#Problem: Add \"Is\" to the front of a given string. If the given string already has \"Is\" then return unchanged\n",
    "def new_string(str):\n",
    "    if len(str)>=2 and str[:2]==\"Is\":\n",
    "        return str\n",
    "    return \"Is\"+str\n",
    "\n",
    "print(new_string(\"Array\"))\n",
    "print(new_string(\"IsEmpty\"))"
   ]
  },
  {
   "cell_type": "code",
   "execution_count": 59,
   "metadata": {},
   "outputs": [
    {
     "name": "stdout",
     "output_type": "stream",
     "text": [
      "abcabc\n",
      ".py.py.py\n"
     ]
    }
   ],
   "source": [
    "#Problem: Get a string which is n (non-negative integer) copies of a given string\n",
    "def larger_string(str, n):\n",
    "   result = \"\"\n",
    "   for i in range(n):\n",
    "      result = result + str\n",
    "   return result\n",
    "\n",
    "print(larger_string('abc', 2))\n",
    "print(larger_string('.py', 3))"
   ]
  },
  {
   "cell_type": "code",
   "execution_count": 65,
   "metadata": {},
   "outputs": [
    {
     "name": "stdout",
     "output_type": "stream",
     "text": [
      "Enter a number: 1\n",
      "The number is odd\n"
     ]
    }
   ],
   "source": [
    "#Problem: Find whether a given number (accept from the user) is even or odd, print out an appropriate message to the user\n",
    "num = int(input(\"Enter a number: \"))\n",
    "num1 = num%2\n",
    "if num1==0:\n",
    "    print(\"The number is even\")\n",
    "else:\n",
    "    print(\"The number is odd\")"
   ]
  },
  {
   "cell_type": "code",
   "execution_count": 66,
   "metadata": {},
   "outputs": [
    {
     "name": "stdout",
     "output_type": "stream",
     "text": [
      "2\n",
      "3\n"
     ]
    }
   ],
   "source": [
    "#Problem: Count the number 4 in a given list\n",
    "def list_count_4(nums):\n",
    "    count = 0\n",
    "    for num in nums:\n",
    "        if num==4:\n",
    "            count=count+1\n",
    "    return count\n",
    "print(list_count_4([1,4,6,7,4]))\n",
    "print(list_count_4([1,4,6,4,7,4]))"
   ]
  },
  {
   "cell_type": "code",
   "execution_count": 67,
   "metadata": {},
   "outputs": [
    {
     "name": "stdout",
     "output_type": "stream",
     "text": [
      "abab\n",
      "ppp\n"
     ]
    }
   ],
   "source": [
    "#Problem: Get the n(non-negative integer) copies of the first 2 characters of a given string. \n",
    "#Return the n copies of the whole string if the length is less than 2\n",
    "def substring_copy(str, n):\n",
    "  flen = 2\n",
    "  if flen > len(str):\n",
    "    flen = len(str)\n",
    "  substr = str[:flen]\n",
    "  \n",
    "  result = \"\"\n",
    "  for i in range(n):\n",
    "    result = result + substr\n",
    "  return result\n",
    "print(substring_copy('abcdef', 2))\n",
    "print(substring_copy('p', 3));"
   ]
  },
  {
   "cell_type": "code",
   "execution_count": 68,
   "metadata": {},
   "outputs": [
    {
     "name": "stdout",
     "output_type": "stream",
     "text": [
      "False\n",
      "True\n"
     ]
    }
   ],
   "source": [
    "#Problem: Test whether a passed letter is a vowel or not\n",
    "def is_vowel(char):\n",
    "    all_vowels = 'aeiou'\n",
    "    return char in all_vowels\n",
    "print(is_vowel('c'))\n",
    "print(is_vowel('e'))"
   ]
  },
  {
   "cell_type": "code",
   "execution_count": 69,
   "metadata": {},
   "outputs": [
    {
     "name": "stdout",
     "output_type": "stream",
     "text": [
      "True\n",
      "False\n"
     ]
    }
   ],
   "source": [
    "#Problem: check whether a specified value is contained in a group of values\n",
    "def is_group_member(group_data,n):\n",
    "    for value in group_data:\n",
    "        if n==value:\n",
    "            return True\n",
    "    return False\n",
    "print(is_group_member([1,5,8,3],3))\n",
    "print(is_group_member([5,8,3],-1))"
   ]
  },
  {
   "cell_type": "code",
   "execution_count": 70,
   "metadata": {},
   "outputs": [
    {
     "name": "stdout",
     "output_type": "stream",
     "text": [
      "**\n",
      "***\n",
      "******\n",
      "*****\n"
     ]
    }
   ],
   "source": [
    "#Problem: create a histogram from a given list of integers\n",
    "def histogram(items):\n",
    "    for n in items:\n",
    "        output = ''\n",
    "        times = n\n",
    "        while(times>0):\n",
    "            output += '*'\n",
    "            times = times-1\n",
    "        print(output)\n",
    "\n",
    "histogram([2,3,6,5])"
   ]
  },
  {
   "cell_type": "code",
   "execution_count": 71,
   "metadata": {},
   "outputs": [
    {
     "name": "stdout",
     "output_type": "stream",
     "text": [
      "15122\n"
     ]
    }
   ],
   "source": [
    "#Problem: concatenate all elements in a list into a string and return it.\n",
    "def concatenate_list_data(list):\n",
    "    result = ''\n",
    "    for element in list:\n",
    "        result += str(element)\n",
    "    return result\n",
    "\n",
    "print(concatenate_list_data([1,5,12,2]))"
   ]
  },
  {
   "cell_type": "code",
   "execution_count": 79,
   "metadata": {},
   "outputs": [
    {
     "name": "stdout",
     "output_type": "stream",
     "text": [
      "386\n",
      "462\n",
      "418\n",
      "344\n",
      "236\n",
      "566\n",
      "978\n",
      "328\n",
      "162\n",
      "758\n",
      "918\n",
      "237\n"
     ]
    }
   ],
   "source": [
    "#Problem: Print all even numbers from a given numbers list in the same order and stop the printing if any numbers \n",
    "#that come after 237 in the sequence.\n",
    "numbers = [386, 462, 47, 418, 907, 344, 236, 375, 823, 566, 597, 978, 328, 615, 953, 345,\n",
    "          399, 162, 758, 219, 918, 237, 412, 566, 826, 248, 866, 950, 626, 949, 687, 217,\n",
    "          815, 67, 104, 58, 512, 24, 892, 894, 767, 553, 81, 379, 843, 831, 445, 742, 717,\n",
    "          958, 743, 527]\n",
    "\n",
    "for x in numbers:\n",
    "    if x == 237:\n",
    "        print(x)\n",
    "        break;\n",
    "    elif x%2==0:\n",
    "        print(x)"
   ]
  },
  {
   "cell_type": "code",
   "execution_count": 81,
   "metadata": {},
   "outputs": [
    {
     "name": "stdout",
     "output_type": "stream",
     "text": [
      "{'Black', 'White'}\n"
     ]
    }
   ],
   "source": [
    "#Problem: Print out a set containing all the colors from color_list_1 which are not present in color_list_2\n",
    "color_list_1=set([\"White\",\"Black\",\"Red\"])\n",
    "color_list_2=set([\"Red\",\"Green\"])\n",
    "\n",
    "print(color_list_1.difference(color_list_2))"
   ]
  },
  {
   "cell_type": "code",
   "execution_count": 82,
   "metadata": {},
   "outputs": [
    {
     "name": "stdout",
     "output_type": "stream",
     "text": [
      "Enter Height of Triangle: 40\n",
      "Enter Base of Triangle: 20\n",
      "area =  400.0\n"
     ]
    }
   ],
   "source": [
    "#Problem: Accept the base and height of a triangle and compute the area\n",
    "H = float(input(\"Enter Height of Triangle: \"))\n",
    "B = float(input(\"Enter Base of Triangle: \"))\n",
    "area = B*H/2\n",
    "print(\"area = \", area)"
   ]
  },
  {
   "cell_type": "code",
   "execution_count": 83,
   "metadata": {},
   "outputs": [
    {
     "name": "stdout",
     "output_type": "stream",
     "text": [
      "1\n",
      "2\n"
     ]
    }
   ],
   "source": [
    "#Problem: Compute the greatest common divisor (GCD) of two positive integers\n",
    "def gcd(x, y):\n",
    "    gcd = 1\n",
    "    \n",
    "    if x % y == 0:\n",
    "        return y\n",
    "    \n",
    "    for k in range(int(y / 2), 0, -1):\n",
    "        if x % k == 0 and y % k == 0:\n",
    "            gcd = k\n",
    "            break  \n",
    "    return gcd\n",
    "\n",
    "print(gcd(12, 17))\n",
    "print(gcd(4, 6))"
   ]
  },
  {
   "cell_type": "code",
   "execution_count": 85,
   "metadata": {},
   "outputs": [
    {
     "name": "stdout",
     "output_type": "stream",
     "text": [
      "12\n",
      "255\n"
     ]
    }
   ],
   "source": [
    "#Problem: Compute the least common multiple (LCM) of two positive integers\n",
    "def lcm(x, y):\n",
    "   if x > y:\n",
    "       z = x\n",
    "   else:\n",
    "       z = y\n",
    "\n",
    "   while(True):\n",
    "       if(z % x == 0) and (z % y == 0):\n",
    "           lcm = z\n",
    "           break\n",
    "       z += 1\n",
    "\n",
    "   return lcm\n",
    "print(lcm(4, 6))\n",
    "print(lcm(15, 17))"
   ]
  },
  {
   "cell_type": "code",
   "execution_count": 86,
   "metadata": {},
   "outputs": [
    {
     "name": "stdout",
     "output_type": "stream",
     "text": [
      "0\n",
      "0\n",
      "0\n",
      "6\n"
     ]
    }
   ],
   "source": [
    "#Problem: Compute sum of three given integers. However, if two values are equal sum will be zero.\n",
    "def sum(x,y,z,):\n",
    "    if x==y or y==z or x==z:\n",
    "        sum = 0\n",
    "    else:\n",
    "        sum=x+y+z\n",
    "    return sum\n",
    "\n",
    "print(sum(2,1,2))\n",
    "print(sum(3,2,2))\n",
    "print(sum(2,2,2))\n",
    "print(sum(1,2,3))"
   ]
  },
  {
   "cell_type": "code",
   "execution_count": 87,
   "metadata": {},
   "outputs": [
    {
     "name": "stdout",
     "output_type": "stream",
     "text": [
      "20\n",
      "12\n",
      "22\n"
     ]
    }
   ],
   "source": [
    "#Problem: Compute sum of two given integers. However, if the sum is between 15 to 20 it will return 20\n",
    "def sum(x,y):\n",
    "    sum=x+y\n",
    "    if sum in range(15,20):\n",
    "        return 20\n",
    "    else:\n",
    "        return sum\n",
    "\n",
    "print(sum(10,6))\n",
    "print(sum(10,2))\n",
    "print(sum(10,12))"
   ]
  },
  {
   "cell_type": "code",
   "execution_count": 90,
   "metadata": {},
   "outputs": [
    {
     "name": "stdout",
     "output_type": "stream",
     "text": [
      "True\n",
      "True\n",
      "True\n"
     ]
    }
   ],
   "source": [
    "#Problem: Will return true if the two given integer values are equal or their sum or difference is 5\n",
    "def Value(x,y):\n",
    "    sum=x+y\n",
    "    dif=abs(x-y)\n",
    "    if x==y or sum==5 or dif==5:\n",
    "        return True\n",
    "    else:\n",
    "        return False\n",
    "\n",
    "print(Value(7,2))\n",
    "print(Value(3,2))\n",
    "print(Value(2,2))"
   ]
  },
  {
   "cell_type": "code",
   "execution_count": 92,
   "metadata": {},
   "outputs": [
    {
     "name": "stdout",
     "output_type": "stream",
     "text": [
      "30\n"
     ]
    }
   ],
   "source": [
    "#Problem: Add two objects if both objects are integer type\n",
    "def add_numbers(a, b):\n",
    "    if not (isinstance(a, int) and isinstance(b, int)):\n",
    "         raise TypeError(\"Inputs must be integers\")\n",
    "    return a + b\n",
    "\n",
    "print(add_numbers(10, 20))"
   ]
  },
  {
   "cell_type": "code",
   "execution_count": 93,
   "metadata": {},
   "outputs": [
    {
     "name": "stdout",
     "output_type": "stream",
     "text": [
      "Name: Simon\n",
      "Age: 19\n",
      "Address: Bangalore, Karnataka, India\n"
     ]
    }
   ],
   "source": [
    "#Problem: Display your details like name, age, address in three different lines\n",
    "def personal_details():\n",
    "    name, age = \"Simon\", 19\n",
    "    address = \"Bangalore, Karnataka, India\"\n",
    "    print(\"Name: {}\\nAge: {}\\nAddress: {}\".format(name, age, address))\n",
    "\n",
    "personal_details()"
   ]
  },
  {
   "cell_type": "code",
   "execution_count": 98,
   "metadata": {},
   "outputs": [
    {
     "name": "stdout",
     "output_type": "stream",
     "text": [
      "49\n"
     ]
    }
   ],
   "source": [
    "#Problem: Program to solve (x+y)*(x+y)\n",
    "def n (x,y):\n",
    "    n = (x+y)**2\n",
    "    return n\n",
    "print(n(4,3))"
   ]
  },
  {
   "cell_type": "code",
   "execution_count": 105,
   "metadata": {},
   "outputs": [
    {
     "name": "stdout",
     "output_type": "stream",
     "text": [
      "12722.79\n"
     ]
    }
   ],
   "source": [
    "#Problem: Compute future value of a specified principal amount, rate of interest, and number of years\n",
    "def n(p,i,t):\n",
    "    n = p*(1+i/100)**t\n",
    "    return n\n",
    "print(round(n(10000,3.5,7),2))"
   ]
  },
  {
   "cell_type": "code",
   "execution_count": 110,
   "metadata": {},
   "outputs": [
    {
     "name": "stdout",
     "output_type": "stream",
     "text": [
      "6.3246\n"
     ]
    }
   ],
   "source": [
    "#Problem: Compute the distance between the points (x1,y1) and (x2,y2)\n",
    "import math\n",
    "p1 = [4,0]\n",
    "p2 = [6,6]\n",
    "distance = math.sqrt(((p1[0]-p2[0])**2 + ((p1[1]-p2[1])**2)))\n",
    "print(round(distance,4))"
   ]
  },
  {
   "cell_type": "code",
   "execution_count": 111,
   "metadata": {},
   "outputs": [
    {
     "name": "stdout",
     "output_type": "stream",
     "text": [
      "True\n"
     ]
    }
   ],
   "source": [
    "#Problem: Check whether a file exists\n",
    "import os.path\n",
    "open('abc.txt','w')\n",
    "print(os.path.isfile('abc.txt'))"
   ]
  },
  {
   "cell_type": "code",
   "execution_count": 112,
   "metadata": {},
   "outputs": [
    {
     "name": "stdout",
     "output_type": "stream",
     "text": [
      "64\n"
     ]
    }
   ],
   "source": [
    "#Problem: Determine if a Python shell is executing in 32bit or 64bit mode on OS\n",
    "import struct\n",
    "print(struct.calcsize(\"P\")*8)"
   ]
  },
  {
   "cell_type": "code",
   "execution_count": 113,
   "metadata": {},
   "outputs": [
    {
     "name": "stdout",
     "output_type": "stream",
     "text": [
      "nt\n",
      "Windows\n",
      "10\n"
     ]
    }
   ],
   "source": [
    "#Problem: Get OS name, platform and release information\n",
    "import platform\n",
    "import os\n",
    "print(os.name)\n",
    "print(platform.system())\n",
    "print(platform.release())"
   ]
  },
  {
   "cell_type": "code",
   "execution_count": 114,
   "metadata": {},
   "outputs": [
    {
     "name": "stdout",
     "output_type": "stream",
     "text": [
      "['C:\\\\Users\\\\Rudy\\\\Anaconda3', 'C:\\\\Users\\\\Rudy\\\\Anaconda3\\\\lib\\\\site-packages']\n"
     ]
    }
   ],
   "source": [
    "#Problem: Locate Python site packages\n",
    "import site\n",
    "print(site.getsitepackages())"
   ]
  },
  {
   "cell_type": "code",
   "execution_count": 117,
   "metadata": {},
   "outputs": [
    {
     "ename": "FileNotFoundError",
     "evalue": "[WinError 2] The system cannot find the file specified",
     "output_type": "error",
     "traceback": [
      "\u001b[1;31m---------------------------------------------------------------------------\u001b[0m",
      "\u001b[1;31mFileNotFoundError\u001b[0m                         Traceback (most recent call last)",
      "\u001b[1;32m<ipython-input-117-6db9542f42c5>\u001b[0m in \u001b[0;36m<module>\u001b[1;34m\u001b[0m\n\u001b[0;32m      1\u001b[0m \u001b[1;31m#Problem: Call an external command in Python\u001b[0m\u001b[1;33m\u001b[0m\u001b[1;33m\u001b[0m\u001b[1;33m\u001b[0m\u001b[0m\n\u001b[0;32m      2\u001b[0m \u001b[1;32mfrom\u001b[0m \u001b[0msubprocess\u001b[0m \u001b[1;32mimport\u001b[0m \u001b[0mcall\u001b[0m\u001b[1;33m\u001b[0m\u001b[1;33m\u001b[0m\u001b[0m\n\u001b[1;32m----> 3\u001b[1;33m \u001b[0mcall\u001b[0m\u001b[1;33m(\u001b[0m\u001b[1;33m[\u001b[0m\u001b[1;34m\"ls\"\u001b[0m\u001b[1;33m,\u001b[0m \u001b[1;34m\"-l\"\u001b[0m\u001b[1;33m]\u001b[0m\u001b[1;33m)\u001b[0m\u001b[1;33m\u001b[0m\u001b[1;33m\u001b[0m\u001b[0m\n\u001b[0m",
      "\u001b[1;32m~\\Anaconda3\\lib\\subprocess.py\u001b[0m in \u001b[0;36mcall\u001b[1;34m(timeout, *popenargs, **kwargs)\u001b[0m\n\u001b[0;32m    321\u001b[0m     \u001b[0mretcode\u001b[0m \u001b[1;33m=\u001b[0m \u001b[0mcall\u001b[0m\u001b[1;33m(\u001b[0m\u001b[1;33m[\u001b[0m\u001b[1;34m\"ls\"\u001b[0m\u001b[1;33m,\u001b[0m \u001b[1;34m\"-l\"\u001b[0m\u001b[1;33m]\u001b[0m\u001b[1;33m)\u001b[0m\u001b[1;33m\u001b[0m\u001b[1;33m\u001b[0m\u001b[0m\n\u001b[0;32m    322\u001b[0m     \"\"\"\n\u001b[1;32m--> 323\u001b[1;33m     \u001b[1;32mwith\u001b[0m \u001b[0mPopen\u001b[0m\u001b[1;33m(\u001b[0m\u001b[1;33m*\u001b[0m\u001b[0mpopenargs\u001b[0m\u001b[1;33m,\u001b[0m \u001b[1;33m**\u001b[0m\u001b[0mkwargs\u001b[0m\u001b[1;33m)\u001b[0m \u001b[1;32mas\u001b[0m \u001b[0mp\u001b[0m\u001b[1;33m:\u001b[0m\u001b[1;33m\u001b[0m\u001b[1;33m\u001b[0m\u001b[0m\n\u001b[0m\u001b[0;32m    324\u001b[0m         \u001b[1;32mtry\u001b[0m\u001b[1;33m:\u001b[0m\u001b[1;33m\u001b[0m\u001b[1;33m\u001b[0m\u001b[0m\n\u001b[0;32m    325\u001b[0m             \u001b[1;32mreturn\u001b[0m \u001b[0mp\u001b[0m\u001b[1;33m.\u001b[0m\u001b[0mwait\u001b[0m\u001b[1;33m(\u001b[0m\u001b[0mtimeout\u001b[0m\u001b[1;33m=\u001b[0m\u001b[0mtimeout\u001b[0m\u001b[1;33m)\u001b[0m\u001b[1;33m\u001b[0m\u001b[1;33m\u001b[0m\u001b[0m\n",
      "\u001b[1;32m~\\Anaconda3\\lib\\subprocess.py\u001b[0m in \u001b[0;36m__init__\u001b[1;34m(self, args, bufsize, executable, stdin, stdout, stderr, preexec_fn, close_fds, shell, cwd, env, universal_newlines, startupinfo, creationflags, restore_signals, start_new_session, pass_fds, encoding, errors, text)\u001b[0m\n\u001b[0;32m    773\u001b[0m                                 \u001b[0mc2pread\u001b[0m\u001b[1;33m,\u001b[0m \u001b[0mc2pwrite\u001b[0m\u001b[1;33m,\u001b[0m\u001b[1;33m\u001b[0m\u001b[1;33m\u001b[0m\u001b[0m\n\u001b[0;32m    774\u001b[0m                                 \u001b[0merrread\u001b[0m\u001b[1;33m,\u001b[0m \u001b[0merrwrite\u001b[0m\u001b[1;33m,\u001b[0m\u001b[1;33m\u001b[0m\u001b[1;33m\u001b[0m\u001b[0m\n\u001b[1;32m--> 775\u001b[1;33m                                 restore_signals, start_new_session)\n\u001b[0m\u001b[0;32m    776\u001b[0m         \u001b[1;32mexcept\u001b[0m\u001b[1;33m:\u001b[0m\u001b[1;33m\u001b[0m\u001b[1;33m\u001b[0m\u001b[0m\n\u001b[0;32m    777\u001b[0m             \u001b[1;31m# Cleanup if the child failed starting.\u001b[0m\u001b[1;33m\u001b[0m\u001b[1;33m\u001b[0m\u001b[1;33m\u001b[0m\u001b[0m\n",
      "\u001b[1;32m~\\Anaconda3\\lib\\subprocess.py\u001b[0m in \u001b[0;36m_execute_child\u001b[1;34m(self, args, executable, preexec_fn, close_fds, pass_fds, cwd, env, startupinfo, creationflags, shell, p2cread, p2cwrite, c2pread, c2pwrite, errread, errwrite, unused_restore_signals, unused_start_new_session)\u001b[0m\n\u001b[0;32m   1176\u001b[0m                                          \u001b[0menv\u001b[0m\u001b[1;33m,\u001b[0m\u001b[1;33m\u001b[0m\u001b[1;33m\u001b[0m\u001b[0m\n\u001b[0;32m   1177\u001b[0m                                          \u001b[0mos\u001b[0m\u001b[1;33m.\u001b[0m\u001b[0mfspath\u001b[0m\u001b[1;33m(\u001b[0m\u001b[0mcwd\u001b[0m\u001b[1;33m)\u001b[0m \u001b[1;32mif\u001b[0m \u001b[0mcwd\u001b[0m \u001b[1;32mis\u001b[0m \u001b[1;32mnot\u001b[0m \u001b[1;32mNone\u001b[0m \u001b[1;32melse\u001b[0m \u001b[1;32mNone\u001b[0m\u001b[1;33m,\u001b[0m\u001b[1;33m\u001b[0m\u001b[1;33m\u001b[0m\u001b[0m\n\u001b[1;32m-> 1178\u001b[1;33m                                          startupinfo)\n\u001b[0m\u001b[0;32m   1179\u001b[0m             \u001b[1;32mfinally\u001b[0m\u001b[1;33m:\u001b[0m\u001b[1;33m\u001b[0m\u001b[1;33m\u001b[0m\u001b[0m\n\u001b[0;32m   1180\u001b[0m                 \u001b[1;31m# Child is launched. Close the parent's copy of those pipe\u001b[0m\u001b[1;33m\u001b[0m\u001b[1;33m\u001b[0m\u001b[1;33m\u001b[0m\u001b[0m\n",
      "\u001b[1;31mFileNotFoundError\u001b[0m: [WinError 2] The system cannot find the file specified"
     ]
    }
   ],
   "source": [
    "#Problem: Call an external command in Python\n",
    "from subprocess import call\n",
    "call([\"ls\", \"-l\"])"
   ]
  },
  {
   "cell_type": "code",
   "execution_count": 118,
   "metadata": {},
   "outputs": [
    {
     "ename": "NameError",
     "evalue": "name '__file__' is not defined",
     "output_type": "error",
     "traceback": [
      "\u001b[1;31m---------------------------------------------------------------------------\u001b[0m",
      "\u001b[1;31mNameError\u001b[0m                                 Traceback (most recent call last)",
      "\u001b[1;32m<ipython-input-118-e1348d5014aa>\u001b[0m in \u001b[0;36m<module>\u001b[1;34m\u001b[0m\n\u001b[0;32m      1\u001b[0m \u001b[1;31m#Problem: Get the path and name of the file that is currently executing\u001b[0m\u001b[1;33m\u001b[0m\u001b[1;33m\u001b[0m\u001b[1;33m\u001b[0m\u001b[0m\n\u001b[0;32m      2\u001b[0m \u001b[1;32mimport\u001b[0m \u001b[0mos\u001b[0m\u001b[1;33m\u001b[0m\u001b[1;33m\u001b[0m\u001b[0m\n\u001b[1;32m----> 3\u001b[1;33m \u001b[0mprint\u001b[0m\u001b[1;33m(\u001b[0m\u001b[1;34m\"Current File Name : \"\u001b[0m\u001b[1;33m,\u001b[0m\u001b[0mos\u001b[0m\u001b[1;33m.\u001b[0m\u001b[0mpath\u001b[0m\u001b[1;33m.\u001b[0m\u001b[0mrealpath\u001b[0m\u001b[1;33m(\u001b[0m\u001b[0m__file__\u001b[0m\u001b[1;33m)\u001b[0m\u001b[1;33m)\u001b[0m\u001b[1;33m\u001b[0m\u001b[1;33m\u001b[0m\u001b[0m\n\u001b[0m",
      "\u001b[1;31mNameError\u001b[0m: name '__file__' is not defined"
     ]
    }
   ],
   "source": [
    "#Problem: Get the path and name of the file that is currently executing\n",
    "import os\n",
    "print(\"Current File Name : \",os.path.realpath(__file__))"
   ]
  },
  {
   "cell_type": "code",
   "execution_count": 119,
   "metadata": {},
   "outputs": [
    {
     "name": "stdout",
     "output_type": "stream",
     "text": [
      "4\n"
     ]
    }
   ],
   "source": [
    "#Problem: Find out the number of CPUs using\n",
    "import multiprocessing\n",
    "print(multiprocessing.cpu_count())"
   ]
  },
  {
   "cell_type": "code",
   "execution_count": 122,
   "metadata": {},
   "outputs": [
    {
     "name": "stdout",
     "output_type": "stream",
     "text": [
      "246.2458\n",
      "246\n"
     ]
    }
   ],
   "source": [
    "#Problem: Parse a string to Float or Integer\n",
    "n = \"246.2458\"\n",
    "print(float(n))\n",
    "print(int(float(n)))"
   ]
  },
  {
   "cell_type": "code",
   "execution_count": 140,
   "metadata": {},
   "outputs": [
    {
     "name": "stdout",
     "output_type": "stream",
     "text": [
      "Files and directories in ' C://Users//Rudy ' :\n",
      "['.anaconda', '.android', '.AndroidStudio4.0', '.cache', '.conda', '.condarc', '.config', '.git', '.gitconfig', '.idlerc', '.ipynb_checkpoints', '.ipython', '.jupyter', '.matplotlib', '.Origin', '.pencil', '.pylint.d', '.python_history', '.QtWebEngineProcess', '.spyder-py3', '.vscode', '3D Objects', 'abc.txt', 'Anaconda3', 'AppData', 'Apple', 'Application Data', 'Contacts', 'Cookies', 'Creative Cloud Files', 'Desktop', 'Documents', 'Downloads', 'Favorites', 'file.json', 'file.pkl', 'Google Drive', 'handson-ml', 'IntelGraphicsProfiles', 'Links', 'Local Settings', 'MicrosoftEdgeBackups', 'Music', 'My Documents', 'NetHood', 'NTUSER.DAT', 'ntuser.dat.LOG1', 'ntuser.dat.LOG2', 'NTUSER.DAT{43c79d92-b464-11ea-9b91-865c1eb8b180}.TxR.0.regtrans-ms', 'NTUSER.DAT{43c79d92-b464-11ea-9b91-865c1eb8b180}.TxR.1.regtrans-ms', 'NTUSER.DAT{43c79d92-b464-11ea-9b91-865c1eb8b180}.TxR.2.regtrans-ms', 'NTUSER.DAT{43c79d92-b464-11ea-9b91-865c1eb8b180}.TxR.blf', 'NTUSER.DAT{43c79d93-b464-11ea-9b91-865c1eb8b180}.TM.blf', 'NTUSER.DAT{43c79d93-b464-11ea-9b91-865c1eb8b180}.TMContainer00000000000000000001.regtrans-ms', 'NTUSER.DAT{43c79d93-b464-11ea-9b91-865c1eb8b180}.TMContainer00000000000000000002.regtrans-ms', 'ntuser.ini', 'OneDrive', 'Pictures', 'Practice.ipynb', 'PrintHood', 'python-3', 'Recent', 'Saved Games', 'Searches', 'SendTo', 'Start Menu', 'Templates', 'Untitled.ipynb', 'Untitled2.ipynb', 'Untitled3.ipynb', 'Videos', 'w3resource Python Practice.ipynb']\n",
      "\n",
      "Only Files in ' C://Users//Rudy ' :\n",
      "abc.txt\n",
      "file.json\n",
      "file.pkl\n",
      "NTUSER.DAT\n",
      "ntuser.dat.LOG1\n",
      "ntuser.dat.LOG2\n",
      "NTUSER.DAT{43c79d92-b464-11ea-9b91-865c1eb8b180}.TxR.0.regtrans-ms\n",
      "NTUSER.DAT{43c79d92-b464-11ea-9b91-865c1eb8b180}.TxR.1.regtrans-ms\n",
      "NTUSER.DAT{43c79d92-b464-11ea-9b91-865c1eb8b180}.TxR.2.regtrans-ms\n",
      "NTUSER.DAT{43c79d92-b464-11ea-9b91-865c1eb8b180}.TxR.blf\n",
      "NTUSER.DAT{43c79d93-b464-11ea-9b91-865c1eb8b180}.TM.blf\n",
      "NTUSER.DAT{43c79d93-b464-11ea-9b91-865c1eb8b180}.TMContainer00000000000000000001.regtrans-ms\n",
      "NTUSER.DAT{43c79d93-b464-11ea-9b91-865c1eb8b180}.TMContainer00000000000000000002.regtrans-ms\n",
      "ntuser.ini\n",
      "Practice.ipynb\n",
      "Untitled.ipynb\n",
      "Untitled2.ipynb\n",
      "Untitled3.ipynb\n",
      "w3resource Python Practice.ipynb\n",
      "\n",
      "Only Files in ' C://Users//Rudy ' :\n",
      "abc.txt\n",
      "file.json\n",
      "file.pkl\n",
      "NTUSER.DAT\n",
      "ntuser.dat.LOG1\n",
      "ntuser.dat.LOG2\n",
      "NTUSER.DAT{43c79d92-b464-11ea-9b91-865c1eb8b180}.TxR.0.regtrans-ms\n",
      "NTUSER.DAT{43c79d92-b464-11ea-9b91-865c1eb8b180}.TxR.1.regtrans-ms\n",
      "NTUSER.DAT{43c79d92-b464-11ea-9b91-865c1eb8b180}.TxR.2.regtrans-ms\n",
      "NTUSER.DAT{43c79d92-b464-11ea-9b91-865c1eb8b180}.TxR.blf\n",
      "NTUSER.DAT{43c79d93-b464-11ea-9b91-865c1eb8b180}.TM.blf\n",
      "NTUSER.DAT{43c79d93-b464-11ea-9b91-865c1eb8b180}.TMContainer00000000000000000001.regtrans-ms\n",
      "NTUSER.DAT{43c79d93-b464-11ea-9b91-865c1eb8b180}.TMContainer00000000000000000002.regtrans-ms\n",
      "ntuser.ini\n",
      "Practice.ipynb\n",
      "Untitled.ipynb\n",
      "Untitled2.ipynb\n",
      "Untitled3.ipynb\n",
      "w3resource Python Practice.ipynb\n"
     ]
    }
   ],
   "source": [
    "#Problem: List all files in a directory in Python\n",
    "import os\n",
    "import glob\n",
    "path = \"C://Users//Rudy\"\n",
    "dir_list = os.listdir(path)\n",
    "print(\"Files and directories in '\", path, \"' :\")\n",
    "print(dir_list)\n",
    "\n",
    "print(\"\\nOnly Files in '\", path, \"' :\")\n",
    "for x in glob.glob('*.*'):\n",
    "        print(x)\n",
    "        \n",
    "print(\"\\nOnly Files in '\", path, \"' :\")\n",
    "for y in glob.iglob('*.*',recursive=True):\n",
    "        print(y)"
   ]
  },
  {
   "cell_type": "code",
   "execution_count": 141,
   "metadata": {},
   "outputs": [
    {
     "name": "stdout",
     "output_type": "stream",
     "text": [
      "**********\n",
      "\n"
     ]
    }
   ],
   "source": [
    "#Problem: Print without newline or space\n",
    "for i in range(0, 10):\n",
    "    print('*', end=\"\")\n",
    "print(\"\\n\")"
   ]
  },
  {
   "cell_type": "code",
   "execution_count": 142,
   "metadata": {},
   "outputs": [
    {
     "name": "stdout",
     "output_type": "stream",
     "text": [
      "3\n",
      "         39 function calls in 0.001 seconds\n",
      "\n",
      "   Ordered by: standard name\n",
      "\n",
      "   ncalls  tottime  percall  cumtime  percall filename:lineno(function)\n",
      "        1    0.000    0.000    0.001    0.001 <ipython-input-142-70e73d3c034f>:3(sum)\n",
      "        1    0.000    0.000    0.001    0.001 <string>:1(<module>)\n",
      "        3    0.000    0.000    0.001    0.000 iostream.py:197(schedule)\n",
      "        2    0.000    0.000    0.000    0.000 iostream.py:309(_is_master_process)\n",
      "        2    0.000    0.000    0.000    0.000 iostream.py:322(_schedule_flush)\n",
      "        2    0.000    0.000    0.001    0.000 iostream.py:384(write)\n",
      "        3    0.000    0.000    0.000    0.000 iostream.py:93(_event_pipe)\n",
      "        3    0.000    0.000    0.000    0.000 socket.py:342(send)\n",
      "        3    0.000    0.000    0.000    0.000 threading.py:1050(_wait_for_tstate_lock)\n",
      "        3    0.000    0.000    0.000    0.000 threading.py:1092(is_alive)\n",
      "        3    0.000    0.000    0.000    0.000 threading.py:507(is_set)\n",
      "        1    0.000    0.000    0.001    0.001 {built-in method builtins.exec}\n",
      "        2    0.000    0.000    0.000    0.000 {built-in method builtins.isinstance}\n",
      "        1    0.000    0.000    0.001    0.001 {built-in method builtins.print}\n",
      "        2    0.000    0.000    0.000    0.000 {built-in method nt.getpid}\n",
      "        3    0.000    0.000    0.000    0.000 {method 'acquire' of '_thread.lock' objects}\n",
      "        3    0.000    0.000    0.000    0.000 {method 'append' of 'collections.deque' objects}\n",
      "        1    0.000    0.000    0.000    0.000 {method 'disable' of '_lsprof.Profiler' objects}\n",
      "\n",
      "\n"
     ]
    }
   ],
   "source": [
    "#Problem: Determine profiling of Python programs\n",
    "import cProfile\n",
    "def sum():\n",
    "    print(1+2)\n",
    "cProfile.run('sum()')"
   ]
  },
  {
   "cell_type": "code",
   "execution_count": 148,
   "metadata": {},
   "outputs": [
    {
     "name": "stdout",
     "output_type": "stream",
     "text": [
      "*----------------------------------*\n",
      "environ({'ALLUSERSPROFILE': 'C:\\\\ProgramData', 'APPDATA': 'C:\\\\Users\\\\Rudy\\\\AppData\\\\Roaming', 'COMMONPROGRAMFILES': 'C:\\\\Program Files\\\\Common Files', 'COMMONPROGRAMFILES(X86)': 'C:\\\\Program Files (x86)\\\\Common Files', 'COMMONPROGRAMW6432': 'C:\\\\Program Files\\\\Common Files', 'COMPUTERNAME': 'RUDY-LENOVO', 'COMSPEC': 'C:\\\\WINDOWS\\\\system32\\\\cmd.exe', 'DRIVERDATA': 'C:\\\\Windows\\\\System32\\\\Drivers\\\\DriverData', 'FPS_BROWSER_APP_PROFILE_STRING': 'Internet Explorer', 'FPS_BROWSER_USER_PROFILE_STRING': 'Default', 'HOMEDRIVE': 'C:', 'HOMEPATH': '\\\\Users\\\\Rudy', 'LOCALAPPDATA': 'C:\\\\Users\\\\Rudy\\\\AppData\\\\Local', 'LOGONSERVER': '\\\\\\\\RUDY-LENOVO', 'NUMBER_OF_PROCESSORS': '4', 'ONEDRIVE': 'C:\\\\Users\\\\Rudy\\\\OneDrive', 'ONEDRIVECONSUMER': 'C:\\\\Users\\\\Rudy\\\\OneDrive', 'OS': 'Windows_NT', 'PATH': 'C:\\\\Users\\\\Rudy\\\\Anaconda3;C:\\\\Users\\\\Rudy\\\\Anaconda3\\\\Library\\\\mingw-w64\\\\bin;C:\\\\Users\\\\Rudy\\\\Anaconda3\\\\Library\\\\usr\\\\bin;C:\\\\Users\\\\Rudy\\\\Anaconda3\\\\Library\\\\bin;C:\\\\Users\\\\Rudy\\\\Anaconda3\\\\Scripts;C:\\\\ProgramData\\\\Oracle\\\\Java\\\\javapath;C:\\\\WINDOWS\\\\system32;C:\\\\WINDOWS;C:\\\\WINDOWS\\\\System32\\\\Wbem;C:\\\\WINDOWS\\\\System32\\\\WindowsPowerShell\\\\v1.0\\\\;C:\\\\WINDOWS\\\\System32\\\\OpenSSH\\\\;C:\\\\Program Files\\\\Git\\\\cmd;C:\\\\Program Files\\\\MySQL\\\\MySQL Shell 8.0\\\\bin\\\\;C:\\\\Users\\\\Rudy\\\\Anaconda3;C:\\\\Users\\\\Rudy\\\\Anaconda3\\\\Library\\\\mingw-w64\\\\bin;C:\\\\Users\\\\Rudy\\\\Anaconda3\\\\Library\\\\usr\\\\bin;C:\\\\Users\\\\Rudy\\\\Anaconda3\\\\Library\\\\bin;C:\\\\Users\\\\Rudy\\\\Anaconda3\\\\Scripts;C:\\\\python37\\\\Scripts\\\\;C:\\\\python37\\\\;C:\\\\Users\\\\Rudy\\\\AppData\\\\Local\\\\Microsoft\\\\WindowsApps;C:\\\\Users\\\\Rudy\\\\AppData\\\\Local\\\\Programs\\\\Microsoft VS Code\\\\bin;C:\\\\Python27;C:\\\\Users\\\\Rudy\\\\AppData\\\\Local\\\\GitHubDesktop\\\\bin;%USERPROFILE%\\\\AppData\\\\Local\\\\Microsoft\\\\WindowsApps;', 'PATHEXT': '.COM;.EXE;.BAT;.CMD;.VBS;.VBE;.JS;.JSE;.WSF;.WSH;.MSC', 'PROCESSOR_ARCHITECTURE': 'AMD64', 'PROCESSOR_IDENTIFIER': 'Intel64 Family 6 Model 69 Stepping 1, GenuineIntel', 'PROCESSOR_LEVEL': '6', 'PROCESSOR_REVISION': '4501', 'PROGRAMDATA': 'C:\\\\ProgramData', 'PROGRAMFILES': 'C:\\\\Program Files', 'PROGRAMFILES(X86)': 'C:\\\\Program Files (x86)', 'PROGRAMW6432': 'C:\\\\Program Files', 'PSMODULEPATH': 'C:\\\\Program Files\\\\WindowsPowerShell\\\\Modules;C:\\\\WINDOWS\\\\system32\\\\WindowsPowerShell\\\\v1.0\\\\Modules', 'PUBLIC': 'C:\\\\Users\\\\Public', 'SESSIONNAME': 'Console', 'SYSTEMDRIVE': 'C:', 'SYSTEMROOT': 'C:\\\\WINDOWS', 'TEMP': 'C:\\\\Users\\\\Rudy\\\\AppData\\\\Local\\\\Temp', 'TMP': 'C:\\\\Users\\\\Rudy\\\\AppData\\\\Local\\\\Temp', 'USERDOMAIN': 'RUDY-LENOVO', 'USERDOMAIN_ROAMINGPROFILE': 'RUDY-LENOVO', 'USERNAME': 'Rudy', 'USERPROFILE': 'C:\\\\Users\\\\Rudy', 'WINDIR': 'C:\\\\WINDOWS', 'CONDA_PREFIX': 'C:\\\\Users\\\\Rudy\\\\Anaconda3', 'KERNEL_LAUNCH_TIMEOUT': '40', 'JPY_INTERRUPT_EVENT': '2992', 'IPY_INTERRUPT_EVENT': '2992', 'JPY_PARENT_PID': '2696', 'TERM': 'xterm-color', 'CLICOLOR': '1', 'PAGER': 'cat', 'GIT_PAGER': 'cat', 'MPLBACKEND': 'module://ipykernel.pylab.backend_inline'})\n",
      "*----------------------------------*\n",
      "*----------------------------------*\n",
      "C:\\Users\\Rudy\\Anaconda3;C:\\Users\\Rudy\\Anaconda3\\Library\\mingw-w64\\bin;C:\\Users\\Rudy\\Anaconda3\\Library\\usr\\bin;C:\\Users\\Rudy\\Anaconda3\\Library\\bin;C:\\Users\\Rudy\\Anaconda3\\Scripts;C:\\ProgramData\\Oracle\\Java\\javapath;C:\\WINDOWS\\system32;C:\\WINDOWS;C:\\WINDOWS\\System32\\Wbem;C:\\WINDOWS\\System32\\WindowsPowerShell\\v1.0\\;C:\\WINDOWS\\System32\\OpenSSH\\;C:\\Program Files\\Git\\cmd;C:\\Program Files\\MySQL\\MySQL Shell 8.0\\bin\\;C:\\Users\\Rudy\\Anaconda3;C:\\Users\\Rudy\\Anaconda3\\Library\\mingw-w64\\bin;C:\\Users\\Rudy\\Anaconda3\\Library\\usr\\bin;C:\\Users\\Rudy\\Anaconda3\\Library\\bin;C:\\Users\\Rudy\\Anaconda3\\Scripts;C:\\python37\\Scripts\\;C:\\python37\\;C:\\Users\\Rudy\\AppData\\Local\\Microsoft\\WindowsApps;C:\\Users\\Rudy\\AppData\\Local\\Programs\\Microsoft VS Code\\bin;C:\\Python27;C:\\Users\\Rudy\\AppData\\Local\\GitHubDesktop\\bin;%USERPROFILE%\\AppData\\Local\\Microsoft\\WindowsApps;\n",
      "*----------------------------------*\n"
     ]
    }
   ],
   "source": [
    "#Problem: Program to access environment variables\n",
    "import os\n",
    "# Access all environment variables \n",
    "print('*----------------------------------*')\n",
    "print(os.environ)\n",
    "print('*----------------------------------*')\n",
    "# Access a particular environment variable \n",
    "#print(os.environ['HOME'])\n",
    "print('*----------------------------------*')\n",
    "print(os.environ['PATH'])\n",
    "print('*----------------------------------*')"
   ]
  },
  {
   "cell_type": "code",
   "execution_count": 149,
   "metadata": {},
   "outputs": [
    {
     "name": "stdout",
     "output_type": "stream",
     "text": [
      "Rudy\n"
     ]
    }
   ],
   "source": [
    "#Problem: To get current username\n",
    "import getpass\n",
    "print(getpass.getuser())"
   ]
  },
  {
   "cell_type": "code",
   "execution_count": 150,
   "metadata": {},
   "outputs": [
    {
     "name": "stdout",
     "output_type": "stream",
     "text": [
      "192.168.0.103\n"
     ]
    }
   ],
   "source": [
    "#Problem: To get local IP address using Python's stdlib\n",
    "import socket\n",
    "print([l for l in ([ip for ip in socket.gethostbyname_ex(socket.gethostname())[2] \n",
    "if not ip.startswith(\"127.\")][:1], [[(s.connect(('8.8.8.8', 53)), \n",
    "s.getsockname()[0], s.close()) for s in [socket.socket(socket.AF_INET, \n",
    "socket.SOCK_DGRAM)]][0][1]]) if l][0][0])"
   ]
  },
  {
   "cell_type": "code",
   "execution_count": 154,
   "metadata": {},
   "outputs": [
    {
     "name": "stdout",
     "output_type": "stream",
     "text": [
      "\n",
      "Time to sum of 1 to  5  and required time to calculate is : (15, 0.0)\n"
     ]
    }
   ],
   "source": [
    "#Problem: To get execution time (in seconds) for a Python method\n",
    "import time\n",
    "def sum_of_n_numbers(n):\n",
    "    start_time = time.time()\n",
    "    s = 0\n",
    "    for i in range(1,n+1):\n",
    "        s = s + i\n",
    "    end_time = time.time()\n",
    "    return s,end_time-start_time\n",
    "\n",
    "n = 5\n",
    "print(\"\\nTime to sum of 1 to \",n,\" and required time to calculate is :\",sum_of_n_numbers(n))"
   ]
  },
  {
   "cell_type": "code",
   "execution_count": 155,
   "metadata": {},
   "outputs": [
    {
     "name": "stdout",
     "output_type": "stream",
     "text": [
      "Input a number: 1\n",
      "1.0\n"
     ]
    }
   ],
   "source": [
    "#Problem: To find the sum of the n positive integers\n",
    "n = int(input(\"Input a number: \"))\n",
    "sum_num = (n * (n + 1)) / 2\n",
    "print(sum_num)"
   ]
  },
  {
   "cell_type": "code",
   "execution_count": 156,
   "metadata": {},
   "outputs": [
    {
     "name": "stdout",
     "output_type": "stream",
     "text": [
      "Input your height: \n",
      "Feet: 5\n",
      "Inches: 2\n",
      "Your height is : 157 cm.\n"
     ]
    }
   ],
   "source": [
    "#Problem: To convert height (in feet and inches) to centimeters\n",
    "print(\"Input your height: \")\n",
    "h_ft = int(input(\"Feet: \"))\n",
    "h_inch = int(input(\"Inches: \"))\n",
    "\n",
    "h_inch += h_ft*12\n",
    "h_cm = round(h_inch*2.54,1)\n",
    "\n",
    "print(\"Your height is : %d cm.\" %h_cm)"
   ]
  },
  {
   "cell_type": "code",
   "execution_count": 159,
   "metadata": {},
   "outputs": [
    {
     "name": "stdout",
     "output_type": "stream",
     "text": [
      "Enter Length of Triangle :3\n",
      "Enter Height of Triangle :4\n",
      "The length of the hypotenuse is 5.0\n"
     ]
    }
   ],
   "source": [
    "#Problem: Calculate the hypotenuse of a right angled triangle\n",
    "from math import sqrt\n",
    "l = float(input(\"Enter Length of Triangle :\"))\n",
    "d = float(input(\"Enter Height of Triangle :\"))\n",
    "h = sqrt(l**2 + d**2)\n",
    "print(\"The length of the hypotenuse is\",h)"
   ]
  },
  {
   "cell_type": "code",
   "execution_count": 161,
   "metadata": {},
   "outputs": [
    {
     "name": "stdout",
     "output_type": "stream",
     "text": [
      "Input distance in feet: 60\n",
      "The distance in inches is 720 inches.\n",
      "The distance in yards is 20.00 yards.\n",
      "The distance in miles is 0.01 miles.\n"
     ]
    }
   ],
   "source": [
    "#Problem: Convert the distance (in feet) to inches, yards, and miles\n",
    "d_ft = int(input(\"Input distance in feet: \"))\n",
    "d_inches = d_ft*12\n",
    "d_yards = d_ft/3.0\n",
    "d_miles = d_ft/5280.0\n",
    "\n",
    "print(\"The distance in inches is %i inches.\" % d_inches)\n",
    "print(\"The distance in yards is %.2f yards.\" % d_yards)\n",
    "print(\"The distance in miles is %.2f miles.\" % d_miles)"
   ]
  },
  {
   "cell_type": "code",
   "execution_count": 162,
   "metadata": {},
   "outputs": [
    {
     "name": "stdout",
     "output_type": "stream",
     "text": [
      "Input days: 4\n",
      "Input hours: 5\n",
      "Input minutes: 20\n",
      "Input seconds: 10\n",
      "The  amounts of seconds 364810\n"
     ]
    }
   ],
   "source": [
    "#Problem: Convert all units of time into seconds\n",
    "days = int(input(\"Input days: \")) * 3600 * 24\n",
    "hours = int(input(\"Input hours: \")) * 3600\n",
    "minutes = int(input(\"Input minutes: \")) * 60\n",
    "seconds = int(input(\"Input seconds: \"))\n",
    "\n",
    "time = days + hours + minutes + seconds\n",
    "\n",
    "print(\"The  amounts of seconds\", time)"
   ]
  },
  {
   "cell_type": "code",
   "execution_count": 163,
   "metadata": {},
   "outputs": [
    {
     "name": "stdout",
     "output_type": "stream",
     "text": [
      "Absolute file path:  C:\\Users\\Rudy\\path_fname\n"
     ]
    }
   ],
   "source": [
    "#Problem: To get an absolute file path\n",
    "def absolute_file_path(path_fname):\n",
    "        import os\n",
    "        return os.path.abspath('path_fname')        \n",
    "print(\"Absolute file path: \",absolute_file_path(\"test.txt\"))"
   ]
  },
  {
   "cell_type": "code",
   "execution_count": 165,
   "metadata": {},
   "outputs": [
    {
     "name": "stdout",
     "output_type": "stream",
     "text": [
      "Last modified: Wed May  5 23:47:34 2021\n",
      "Created: Wed May  5 23:47:34 2021\n"
     ]
    }
   ],
   "source": [
    "#Problem: To get file creation and modification date/times\n",
    "import os.path, time\n",
    "print(\"Last modified: %s\" % time.ctime(os.path.getmtime(\"abc.txt\")))\n",
    "print(\"Created: %s\" % time.ctime(os.path.getctime(\"abc.txt\")))"
   ]
  },
  {
   "cell_type": "code",
   "execution_count": 168,
   "metadata": {},
   "outputs": [
    {
     "name": "stdout",
     "output_type": "stream",
     "text": [
      "Input time in seconds: 1234565\n",
      "d:h:m:s-> 14:6:56:5\n"
     ]
    }
   ],
   "source": [
    "#Problem: To convert seconds to day, hour, minutes and seconds\n",
    "time = float(input(\"Input time in seconds: \"))\n",
    "day = time // (24*3600)\n",
    "time = time % (24*3600)\n",
    "hour = time // 3600\n",
    "time %= 3600\n",
    "minutes = time // 60\n",
    "time %= 60\n",
    "seconds = time\n",
    "print(\"d:h:m:s-> %d:%d:%d:%d\" % (day, hour, minutes, seconds))"
   ]
  },
  {
   "cell_type": "code",
   "execution_count": 170,
   "metadata": {},
   "outputs": [
    {
     "name": "stdout",
     "output_type": "stream",
     "text": [
      "Input your height in Feet: 5\n",
      "Input your weight in Kilogram: 60\n",
      "Your body mass index is:  2.4\n"
     ]
    }
   ],
   "source": [
    "#Problem: Calculate body mass index\n",
    "height = float(input(\"Input your height in Feet: \"))\n",
    "weight = float(input(\"Input your weight in Kilogram: \"))\n",
    "print(\"Your body mass index is: \", round(weight/(height*height),2))"
   ]
  },
  {
   "cell_type": "code",
   "execution_count": 172,
   "metadata": {},
   "outputs": [
    {
     "name": "stdout",
     "output_type": "stream",
     "text": [
      "Input pressure in in kilopascals> 12.35\n",
      "The pressure in pounds per square inch: 1.79 psi\n",
      "The pressure in millimeter of mercury: 92.63 mmHg\n",
      "Atmosphere pressure: 0.12 atm\n"
     ]
    }
   ],
   "source": [
    "#Problem: Convert pressure in kilopascals to pounds per square inch, a millimeter of mercury (mmHg) and atmosphere pressure\n",
    "kpa = float(input(\"Input pressure in in kilopascals> \"))\n",
    "psi = kpa / 6.89475729\n",
    "mmhg = kpa * 760 / 101.325\n",
    "atm = kpa / 101.325\n",
    "print(\"The pressure in pounds per square inch: %.2f psi\"  % (psi))\n",
    "print(\"The pressure in millimeter of mercury: %.2f mmHg\" % (mmhg))\n",
    "print(\"Atmosphere pressure: %.2f atm\" % (atm))"
   ]
  },
  {
   "cell_type": "code",
   "execution_count": 178,
   "metadata": {},
   "outputs": [
    {
     "name": "stdout",
     "output_type": "stream",
     "text": [
      "Input a four digit number: 5245\n",
      "The sum of digits in the number is 16\n"
     ]
    }
   ],
   "source": [
    "#Problem: Calculate the sum of the digits in an integer\n",
    "num = int(input(\"Input a four digit number: \"))\n",
    "x = num // 1000\n",
    "x1 = (num - x*1000)//100\n",
    "x2 = (num - x*1000 - x1*100)//10\n",
    "x3 = (num - x*1000 - x1*100 - x2*10)\n",
    "print(\"The sum of digits in the number is\", x+x1+x2+x3)"
   ]
  },
  {
   "cell_type": "code",
   "execution_count": 180,
   "metadata": {},
   "outputs": [
    {
     "name": "stdout",
     "output_type": "stream",
     "text": [
      "Input first number: 5\n",
      "Input second number: 3\n",
      "Input third number: 1\n",
      "Numbers in sorted order:  1 3 5\n"
     ]
    }
   ],
   "source": [
    "#Problem: To sort three integers without using conditional statements and loops\n",
    "x = int(input(\"Input first number: \"))\n",
    "y = int(input(\"Input second number: \"))\n",
    "z = int(input(\"Input third number: \"))\n",
    "\n",
    "a1 = min(x, y, z)\n",
    "a3 = max(x, y, z)\n",
    "a2 = (x + y + z) - a1 - a3\n",
    "print(\"Numbers in sorted order: \", a1, a2, a3)"
   ]
  },
  {
   "cell_type": "code",
   "execution_count": 181,
   "metadata": {},
   "outputs": [
    {
     "name": "stdout",
     "output_type": "stream",
     "text": [
      "abc.txt\n"
     ]
    }
   ],
   "source": [
    "#Problem: To sort files by date\n",
    "import glob\n",
    "import os\n",
    "\n",
    "files = glob.glob(\"*.txt\")\n",
    "files.sort(key=os.path.getmtime)\n",
    "print(\"\\n\".join(files))"
   ]
  },
  {
   "cell_type": "code",
   "execution_count": 182,
   "metadata": {},
   "outputs": [
    {
     "name": "stdout",
     "output_type": "stream",
     "text": [
      "Thu Nov 14 21:13:16 2019 .condarc\n",
      "Mon Dec  2 22:09:19 2019 .python_history\n",
      "Tue Dec  3 16:25:24 2019 Untitled.ipynb\n",
      "Thu Dec 12 12:39:58 2019 w3resource Basic Part 1 Python Practice.ipynb\n",
      "Fri Dec 20 21:42:43 2019 Untitled2.ipynb\n",
      "Fri Dec 20 21:45:10 2019 Practice.ipynb\n",
      "Sat Feb 15 23:44:46 2020 Untitled3.ipynb\n",
      "Mon Jun 22 14:13:50 2020 NTUSER.DAT\n",
      "Mon Jun 22 14:13:50 2020 NTUSER.DAT{43c79d93-b464-11ea-9b91-865c1eb8b180}.TM.blf\n",
      "Mon Jun 22 14:13:50 2020 NTUSER.DAT{43c79d93-b464-11ea-9b91-865c1eb8b180}.TMContainer00000000000000000001.regtrans-ms\n",
      "Mon Jun 22 14:13:50 2020 NTUSER.DAT{43c79d93-b464-11ea-9b91-865c1eb8b180}.TMContainer00000000000000000002.regtrans-ms\n",
      "Mon Jun 22 14:13:50 2020 ntuser.dat.LOG1\n",
      "Mon Jun 22 14:13:50 2020 ntuser.dat.LOG2\n",
      "Mon Jun 22 14:19:53 2020 ntuser.ini\n",
      "Fri Aug 21 19:27:58 2020 .gitconfig\n",
      "Wed Sep 23 20:47:17 2020 file.json\n",
      "Wed Sep 23 20:52:55 2020 file.pkl\n",
      "Fri Apr 16 21:56:46 2021 NTUSER.DAT{43c79d92-b464-11ea-9b91-865c1eb8b180}.TxR.0.regtrans-ms\n",
      "Fri Apr 16 21:56:46 2021 NTUSER.DAT{43c79d92-b464-11ea-9b91-865c1eb8b180}.TxR.1.regtrans-ms\n",
      "Fri Apr 16 21:56:46 2021 NTUSER.DAT{43c79d92-b464-11ea-9b91-865c1eb8b180}.TxR.2.regtrans-ms\n",
      "Fri Apr 16 21:56:46 2021 NTUSER.DAT{43c79d92-b464-11ea-9b91-865c1eb8b180}.TxR.blf\n",
      "Wed May  5 23:47:34 2021 abc.txt\n"
     ]
    }
   ],
   "source": [
    "#Problem: To get a directory listing, sorted by creation date\n",
    "from stat import S_ISREG, ST_CTIME, ST_MODE\n",
    "import os, sys, time\n",
    "\n",
    "#Relative or absolute path to the directory\n",
    "dir_path = sys.argv[1] if len(sys.argv) == 2 else r'.'\n",
    "\n",
    "#all entries in the directory w/ stats\n",
    "data = (os.path.join(dir_path, fn) for fn in os.listdir(dir_path))\n",
    "data = ((os.stat(path), path) for path in data)\n",
    "\n",
    "# regular files, insert creation date\n",
    "data = ((stat[ST_CTIME], path)\n",
    "           for stat, path in data if S_ISREG(stat[ST_MODE]))\n",
    "\n",
    "for cdate, path in sorted(data):\n",
    "    print(time.ctime(cdate), os.path.basename(path))"
   ]
  },
  {
   "cell_type": "code",
   "execution_count": 183,
   "metadata": {},
   "outputs": [
    {
     "name": "stdout",
     "output_type": "stream",
     "text": [
      "['__doc__', '__loader__', '__name__', '__package__', '__spec__', 'acos', 'acosh', 'asin', 'asinh', 'atan', 'atan2', 'atanh', 'ceil', 'copysign', 'cos', 'cosh', 'degrees', 'e', 'erf', 'erfc', 'exp', 'expm1', 'fabs', 'factorial', 'floor', 'fmod', 'frexp', 'fsum', 'gamma', 'gcd', 'hypot', 'inf', 'isclose', 'isfinite', 'isinf', 'isnan', 'ldexp', 'lgamma', 'log', 'log10', 'log1p', 'log2', 'modf', 'nan', 'pi', 'pow', 'radians', 'remainder', 'sin', 'sinh', 'sqrt', 'tan', 'tanh', 'tau', 'trunc']\n"
     ]
    }
   ],
   "source": [
    "#Problem: Program to get the details of math module\n",
    "# Imports the math module\n",
    "import math            \n",
    "#Sets everything to a list of math module\n",
    "math_ls = dir(math) # \n",
    "print(math_ls)"
   ]
  },
  {
   "cell_type": "code",
   "execution_count": 184,
   "metadata": {},
   "outputs": [
    {
     "name": "stdout",
     "output_type": "stream",
     "text": [
      "\n",
      "Calculate the midpoint of a line :\n",
      "The value of x (the first endpoint) 2\n",
      "The value of y (the first endpoint) 2\n",
      "The value of x (the first endpoint) 4\n",
      "The value of y (the first endpoint) 4\n",
      "\n",
      "The midpoint of line is :\n",
      "The midpoint's x value is:  3.0\n",
      "The midpoint's y value is:  3.0\n",
      "\n"
     ]
    }
   ],
   "source": [
    "#Problem: Program to calculate midpoints of a line\n",
    "print('\\nCalculate the midpoint of a line :')\n",
    "\n",
    "x1 = float(input('The value of x (the first endpoint) '))\n",
    "y1 = float(input('The value of y (the first endpoint) '))\n",
    "\n",
    "x2 = float(input('The value of x (the first endpoint) '))\n",
    "y2 = float(input('The value of y (the first endpoint) '))\n",
    "\n",
    "x_m_point = (x1 + x2)/2\n",
    "y_m_point = (y1 + y2)/2\n",
    "print();\n",
    "print(\"The midpoint of line is :\")\n",
    "print( \"The midpoint's x value is: \",x_m_point)\n",
    "print( \"The midpoint's y value is: \",y_m_point)\n",
    "print();"
   ]
  },
  {
   "cell_type": "code",
   "execution_count": 185,
   "metadata": {},
   "outputs": [
    {
     "name": "stdout",
     "output_type": "stream",
     "text": [
      "Input the word be hashed: w3r\n",
      "\n",
      "The coded word is: W02\n",
      "\n"
     ]
    }
   ],
   "source": [
    "#Program: Program to hash a word\n",
    "soundex=[0,1,2,3,0,1,2,0,0,2,2,4,5,5,0,1,2,6,2,3,0,1,0,2,0,2]\n",
    " \n",
    "word=input(\"Input the word be hashed: \")\n",
    " \n",
    "word=word.upper()\n",
    " \n",
    "coded=word[0]\n",
    " \n",
    "for a in word[1:len(word)]:\n",
    "    i=65-ord(a)\n",
    "    coded=coded+str(soundex[i])\n",
    "print() \n",
    "print(\"The coded word is: \"+coded)\n",
    "print()"
   ]
  },
  {
   "cell_type": "code",
   "execution_count": 186,
   "metadata": {},
   "outputs": [
    {
     "name": "stdout",
     "output_type": "stream",
     "text": [
      "\n",
      "Python Copyright Information\n",
      "Copyright (c) 2001-2019 Python Software Foundation.\n",
      "All Rights Reserved.\n",
      "\n",
      "Copyright (c) 2000 BeOpen.com.\n",
      "All Rights Reserved.\n",
      "\n",
      "Copyright (c) 1995-2001 Corporation for National Research Initiatives.\n",
      "All Rights Reserved.\n",
      "\n",
      "Copyright (c) 1991-1995 Stichting Mathematisch Centrum, Amsterdam.\n",
      "All Rights Reserved.\n",
      "\n"
     ]
    }
   ],
   "source": [
    "#Problem: Program to get the copyright information\n",
    "import sys\n",
    "print(\"\\nPython Copyright Information\")\n",
    "print(sys.copyright)\n",
    "print()"
   ]
  },
  {
   "cell_type": "code",
   "execution_count": 187,
   "metadata": {},
   "outputs": [
    {
     "name": "stdout",
     "output_type": "stream",
     "text": [
      "This is the name/path of the script:\n",
      "Number of arguments: 3\n",
      "Argument List: ['C:\\\\Users\\\\Rudy\\\\Anaconda3\\\\lib\\\\site-packages\\\\ipykernel_launcher.py', '-f', 'C:\\\\Users\\\\Rudy\\\\AppData\\\\Roaming\\\\jupyter\\\\runtime\\\\kernel-cf95ec73-2f26-4eb4-bcb6-d674b8d4f3a4.json']\n"
     ]
    }
   ],
   "source": [
    "#Problem: Program to get the command-line arguments (name of the script, the number of arguments, arguments) passed to a \n",
    "#script\n",
    "import sys\n",
    "print(\"This is the name/path of the script:\"),sys.argv[0]\n",
    "print(\"Number of arguments:\",len(sys.argv))\n",
    "print(\"Argument List:\",str(sys.argv))"
   ]
  },
  {
   "cell_type": "code",
   "execution_count": 188,
   "metadata": {},
   "outputs": [
    {
     "name": "stdout",
     "output_type": "stream",
     "text": [
      "\n",
      "Little-endian platform.\n",
      "\n"
     ]
    }
   ],
   "source": [
    "#Problem: Program to test whether the system is a big-endian platform or little-endian platform\n",
    "import sys\n",
    "print()\n",
    "if sys.byteorder == \"little\":\n",
    "    #intel, alpha\n",
    "    print(\"Little-endian platform.\")\n",
    "else:\n",
    "    #motorola, sparc\n",
    "    print(\"Big-endian platform.\")\n",
    "print()"
   ]
  },
  {
   "cell_type": "code",
   "execution_count": 190,
   "metadata": {},
   "outputs": [
    {
     "name": "stdout",
     "output_type": "stream",
     "text": [
      "_abc, _ast, _bisect, _blake2, _codecs, _codecs_cn, _codecs_hk,\n",
      "_codecs_iso2022, _codecs_jp, _codecs_kr, _codecs_tw, _collections,\n",
      "_contextvars, _csv, _datetime, _functools, _heapq, _imp, _io, _json,\n",
      "_locale, _lsprof, _md5, _multibytecodec, _opcode, _operator, _pickle,\n",
      "_random, _sha1, _sha256, _sha3, _sha512, _signal, _sre, _stat,\n",
      "_string, _struct, _symtable, _thread, _tracemalloc, _warnings,\n",
      "_weakref, _winapi, array, atexit, audioop, binascii, builtins, cmath,\n",
      "errno, faulthandler, gc, itertools, marshal, math, mmap, msvcrt, nt,\n",
      "parser, sys, time, winreg, xxsubtype, zipimport, zlib\n"
     ]
    }
   ],
   "source": [
    "#Problem: Program to find the available built-in modules\n",
    "import sys\n",
    "import textwrap\n",
    "module_name = ', '.join(sorted(sys.builtin_module_names))\n",
    "print(textwrap.fill(module_name, width=70))"
   ]
  },
  {
   "cell_type": "code",
   "execution_count": 191,
   "metadata": {},
   "outputs": [
    {
     "name": "stdout",
     "output_type": "stream",
     "text": [
      "\n",
      "Memory size of 'one' = 52 bytes\n",
      "Memory size of 'four' = 53 bytes\n",
      "Memory size of 'three' = 54 bytes\n",
      "\n"
     ]
    }
   ],
   "source": [
    "#Program: Program to get the size of an object in bytes\n",
    "import sys\n",
    "str1 = \"one\"\n",
    "str2 = \"four\"\n",
    "str3 = \"three\"\n",
    "print()\n",
    "print(\"Memory size of '\"+str1+\"' = \"+str(sys.getsizeof(str1))+ \" bytes\")\n",
    "print(\"Memory size of '\"+str2+\"' = \"+str(sys.getsizeof(str2))+ \" bytes\")\n",
    "print(\"Memory size of '\"+str3+\"' = \"+str(sys.getsizeof(str3))+ \" bytes\")\n",
    "print()"
   ]
  },
  {
   "cell_type": "code",
   "execution_count": 192,
   "metadata": {},
   "outputs": [
    {
     "name": "stdout",
     "output_type": "stream",
     "text": [
      "\n",
      "Current value of the recursion limit:\n",
      "3000\n",
      "\n"
     ]
    }
   ],
   "source": [
    "#Problem: Program to get the current value of the recursion limit\n",
    "import sys\n",
    "print()\n",
    "print(\"Current value of the recursion limit:\")\n",
    "print(sys.getrecursionlimit())\n",
    "print()"
   ]
  },
  {
   "cell_type": "code",
   "execution_count": 193,
   "metadata": {},
   "outputs": [
    {
     "name": "stdout",
     "output_type": "stream",
     "text": [
      "\n",
      "All Colors: Red-White-Black\n",
      "\n"
     ]
    }
   ],
   "source": [
    "#Problem: Program to concatenate N strings\n",
    "list_of_colors = ['Red', 'White', 'Black']  \n",
    "colors = '-'.join(list_of_colors)\n",
    "print()\n",
    "print(\"All Colors: \"+colors)\n",
    "print()"
   ]
  },
  {
   "cell_type": "code",
   "execution_count": 214,
   "metadata": {
    "scrolled": true
   },
   "outputs": [
    {
     "ename": "TypeError",
     "evalue": "sum() takes 0 positional arguments but 1 was given",
     "output_type": "error",
     "traceback": [
      "\u001b[1;31m---------------------------------------------------------------------------\u001b[0m",
      "\u001b[1;31mTypeError\u001b[0m                                 Traceback (most recent call last)",
      "\u001b[1;32m<ipython-input-214-e25b96e82201>\u001b[0m in \u001b[0;36m<module>\u001b[1;34m\u001b[0m\n\u001b[0;32m      1\u001b[0m \u001b[1;31m#Problem: Program to calculate the sum over a container\u001b[0m\u001b[1;33m\u001b[0m\u001b[1;33m\u001b[0m\u001b[1;33m\u001b[0m\u001b[0m\n\u001b[0;32m      2\u001b[0m \u001b[0mnumbers\u001b[0m \u001b[1;33m=\u001b[0m \u001b[1;33m(\u001b[0m\u001b[1;36m10\u001b[0m\u001b[1;33m,\u001b[0m\u001b[1;36m20\u001b[0m\u001b[1;33m,\u001b[0m\u001b[1;36m30\u001b[0m\u001b[1;33m)\u001b[0m\u001b[1;33m\u001b[0m\u001b[1;33m\u001b[0m\u001b[0m\n\u001b[1;32m----> 3\u001b[1;33m \u001b[0ms\u001b[0m \u001b[1;33m=\u001b[0m \u001b[0msum\u001b[0m\u001b[1;33m(\u001b[0m\u001b[0mnumbers\u001b[0m\u001b[1;33m)\u001b[0m\u001b[1;33m\u001b[0m\u001b[1;33m\u001b[0m\u001b[0m\n\u001b[0m\u001b[0;32m      4\u001b[0m \u001b[0mprint\u001b[0m\u001b[1;33m(\u001b[0m\u001b[1;34m\"\\nSum of the container: \"\u001b[0m\u001b[1;33m,\u001b[0m \u001b[0ms\u001b[0m\u001b[1;33m)\u001b[0m\u001b[1;33m\u001b[0m\u001b[1;33m\u001b[0m\u001b[0m\n\u001b[0;32m      5\u001b[0m \u001b[0mprint\u001b[0m\u001b[1;33m(\u001b[0m\u001b[1;33m)\u001b[0m\u001b[1;33m\u001b[0m\u001b[1;33m\u001b[0m\u001b[0m\n",
      "\u001b[1;31mTypeError\u001b[0m: sum() takes 0 positional arguments but 1 was given"
     ]
    }
   ],
   "source": [
    "#Problem: Program to calculate the sum over a container\n",
    "numbers = (10,20,30)\n",
    "s = sum(numbers)\n",
    "print(\"\\nSum of the container: \", s)\n",
    "print()"
   ]
  },
  {
   "cell_type": "code",
   "execution_count": 215,
   "metadata": {},
   "outputs": [
    {
     "name": "stdout",
     "output_type": "stream",
     "text": [
      "\n",
      "True\n",
      "False\n",
      "\n"
     ]
    }
   ],
   "source": [
    "#Problem: Program to test whether all numbers of a list is greater than a certain number\n",
    "num = [2,3,4]\n",
    "print()\n",
    "print(all(x > 1 for x in num))\n",
    "print(all(x > 4 for x in num))\n",
    "print()"
   ]
  },
  {
   "cell_type": "code",
   "execution_count": 1,
   "metadata": {},
   "outputs": [
    {
     "name": "stdout",
     "output_type": "stream",
     "text": [
      "\n",
      "1\n",
      "\n"
     ]
    }
   ],
   "source": [
    "#Problem: Program to count the number occurrence of a specific character in a string\n",
    "s = \"The quick brown fox jumps over the lazy dog.\"\n",
    "print()\n",
    "print(s.count(\"q\"))\n",
    "print()"
   ]
  },
  {
   "cell_type": "code",
   "execution_count": 2,
   "metadata": {},
   "outputs": [
    {
     "name": "stdout",
     "output_type": "stream",
     "text": [
      "\n",
      "It is a normal file\n",
      "\n"
     ]
    }
   ],
   "source": [
    "#Problem: Program to check whether a file path is a file or a directory\n",
    "import os  \n",
    "path=\"abc.txt\"  \n",
    "if os.path.isdir(path):  \n",
    "    print(\"\\nIt is a directory\")  \n",
    "elif os.path.isfile(path):  \n",
    "    print(\"\\nIt is a normal file\")  \n",
    "else:  \n",
    "    print(\"It is a special file (socket, FIFO, device file)\" )\n",
    "print()"
   ]
  },
  {
   "cell_type": "code",
   "execution_count": 3,
   "metadata": {},
   "outputs": [
    {
     "name": "stdout",
     "output_type": "stream",
     "text": [
      "\n",
      "97\n",
      "65\n",
      "49\n",
      "64\n",
      "\n"
     ]
    }
   ],
   "source": [
    "#Problem: Program to get the ASCII value of a character\n",
    "print()\n",
    "print(ord('a'))\n",
    "print(ord('A'))\n",
    "print(ord('1'))\n",
    "print(ord('@'))\n",
    "print()"
   ]
  },
  {
   "cell_type": "code",
   "execution_count": 4,
   "metadata": {
    "scrolled": true
   },
   "outputs": [
    {
     "name": "stdout",
     "output_type": "stream",
     "text": [
      "\n",
      "The size of abc.txt is : 0 Bytes\n",
      "\n"
     ]
    }
   ],
   "source": [
    "#Problem: Program to get the size of a file\n",
    "import os\n",
    "file_size = os.path.getsize(\"abc.txt\")\n",
    "print(\"\\nThe size of abc.txt is :\",file_size,\"Bytes\")\n",
    "print()"
   ]
  },
  {
   "cell_type": "code",
   "execution_count": 5,
   "metadata": {},
   "outputs": [
    {
     "name": "stdout",
     "output_type": "stream",
     "text": [
      "\n",
      "30+20=50\n",
      "\n"
     ]
    }
   ],
   "source": [
    "#Problem: Given variables x=30 and y=20, write a Python program to print \"30+20=50\"\n",
    "x = 30\n",
    "y = 20\n",
    "print(\"\\n%d+%d=%d\" % (x,y,x+y))\n",
    "print()"
   ]
  },
  {
   "cell_type": "code",
   "execution_count": 6,
   "metadata": {},
   "outputs": [
    {
     "name": "stdout",
     "output_type": "stream",
     "text": [
      "\n",
      "First day of a month\n",
      "\n"
     ]
    }
   ],
   "source": [
    "#Problem: Program to perform an action if a condition is true.\n",
    "#Given a variable name, if the value is 1, display the string \"First day of a Month!\" and do nothing if the value is not equal.\n",
    "n=1\n",
    "if n == 1:\n",
    "    print(\"\\nFirst day of a month\")\n",
    "print()"
   ]
  },
  {
   "cell_type": "code",
   "execution_count": 7,
   "metadata": {},
   "outputs": [
    {
     "name": "stdout",
     "output_type": "stream",
     "text": [
      "\n",
      "print(lambda str='print(lambda str=%r: (str %% str))()': (str % str))()\n",
      "\n"
     ]
    }
   ],
   "source": [
    "#Problem: Program to create a copy of its own source code\n",
    "print()\n",
    "print((lambda str='print(lambda str=%r: (str %% str))()': (str % str))())\n",
    "print()"
   ]
  },
  {
   "cell_type": "code",
   "execution_count": 8,
   "metadata": {},
   "outputs": [
    {
     "name": "stdout",
     "output_type": "stream",
     "text": [
      "\n",
      "Before swap a = 30 and b = 20\n",
      "\n",
      "After swaping a = 20 and b = 30\n",
      "\n"
     ]
    }
   ],
   "source": [
    "#Problem: Program to swap two variables\n",
    "a = 30\n",
    "b = 20\n",
    "print(\"\\nBefore swap a = %d and b = %d\" %(a, b))\n",
    "a, b = b, a\n",
    "print(\"\\nAfter swaping a = %d and b = %d\" %(a, b))\n",
    "print()"
   ]
  },
  {
   "cell_type": "code",
   "execution_count": 9,
   "metadata": {},
   "outputs": [
    {
     "name": "stdout",
     "output_type": "stream",
     "text": [
      "\n",
      "\\#{'}${\"}@/\n",
      "\\#{'}${\"}@/\n",
      "\\#{'}${\"}@/\n",
      "\\#{'}${\"}@/\n",
      "\\#{'}${\"}@/\n",
      "\\#{'}${\"}@/\n",
      "\n"
     ]
    }
   ],
   "source": [
    "#Problem: Program to define a string containing special characters in various forms\n",
    "print()\n",
    "print(\"\\#{'}${\\\"}@/\")\n",
    "print(\"\\#{'}${\"'\"'\"}@/\")\n",
    "print(r\"\"\"\\#{'}${\"}@/\"\"\")\n",
    "print('\\#{\\'}${\"}@/')\n",
    "print('\\#{'\"'\"'}${\"}@/')\n",
    "print(r'''\\#{'}${\"}@/''')\n",
    "print()"
   ]
  },
  {
   "cell_type": "code",
   "execution_count": 10,
   "metadata": {},
   "outputs": [
    {
     "name": "stdout",
     "output_type": "stream",
     "text": [
      "\n",
      "1971567252608\n",
      "\n"
     ]
    }
   ],
   "source": [
    "#Problem: Program to get the identity of an object\n",
    "obj1 = object()\n",
    "obj1_address = id(obj1)\n",
    "print()\n",
    "print(obj1_address)\n",
    "print()"
   ]
  },
  {
   "cell_type": "code",
   "execution_count": 11,
   "metadata": {},
   "outputs": [
    {
     "name": "stdout",
     "output_type": "stream",
     "text": [
      "\n",
      "[65, 98, 99]\n",
      "\n"
     ]
    }
   ],
   "source": [
    "#Problem: Program to convert a byte string to a list of integers\n",
    "x = b'Abc'\n",
    "print()\n",
    "print(list(x))\n",
    "print()"
   ]
  },
  {
   "cell_type": "code",
   "execution_count": 12,
   "metadata": {},
   "outputs": [
    {
     "name": "stdout",
     "output_type": "stream",
     "text": [
      "\n",
      "Not numeric\n",
      "\n"
     ]
    }
   ],
   "source": [
    "#Problem: Program to check whether a string is numeric\n",
    "str = 'a123'\n",
    "#str = '123'\n",
    "try:\n",
    "    i = float(str)\n",
    "except (ValueError, TypeError):\n",
    "    print('\\nNot numeric')\n",
    "print()"
   ]
  },
  {
   "cell_type": "code",
   "execution_count": 13,
   "metadata": {},
   "outputs": [
    {
     "name": "stdout",
     "output_type": "stream",
     "text": [
      "\n",
      "\n"
     ]
    },
    {
     "name": "stderr",
     "output_type": "stream",
     "text": [
      "  File \"C:\\Users\\Rudy\\Anaconda3\\lib\\runpy.py\", line 193, in _run_module_as_main\n",
      "    \"__main__\", mod_spec)\n",
      "  File \"C:\\Users\\Rudy\\Anaconda3\\lib\\runpy.py\", line 85, in _run_code\n",
      "    exec(code, run_globals)\n",
      "  File \"C:\\Users\\Rudy\\Anaconda3\\lib\\site-packages\\ipykernel_launcher.py\", line 16, in <module>\n",
      "    app.launch_new_instance()\n",
      "  File \"C:\\Users\\Rudy\\Anaconda3\\lib\\site-packages\\traitlets\\config\\application.py\", line 664, in launch_instance\n",
      "    app.start()\n",
      "  File \"C:\\Users\\Rudy\\Anaconda3\\lib\\site-packages\\ipykernel\\kernelapp.py\", line 563, in start\n",
      "    self.io_loop.start()\n",
      "  File \"C:\\Users\\Rudy\\Anaconda3\\lib\\site-packages\\tornado\\platform\\asyncio.py\", line 148, in start\n",
      "    self.asyncio_loop.run_forever()\n",
      "  File \"C:\\Users\\Rudy\\Anaconda3\\lib\\asyncio\\base_events.py\", line 534, in run_forever\n",
      "    self._run_once()\n",
      "  File \"C:\\Users\\Rudy\\Anaconda3\\lib\\asyncio\\base_events.py\", line 1771, in _run_once\n",
      "    handle._run()\n",
      "  File \"C:\\Users\\Rudy\\Anaconda3\\lib\\asyncio\\events.py\", line 88, in _run\n",
      "    self._context.run(self._callback, *self._args)\n",
      "  File \"C:\\Users\\Rudy\\Anaconda3\\lib\\site-packages\\tornado\\ioloop.py\", line 690, in <lambda>\n",
      "    lambda f: self._run_callback(functools.partial(callback, future))\n",
      "  File \"C:\\Users\\Rudy\\Anaconda3\\lib\\site-packages\\tornado\\ioloop.py\", line 743, in _run_callback\n",
      "    ret = callback()\n",
      "  File \"C:\\Users\\Rudy\\Anaconda3\\lib\\site-packages\\tornado\\gen.py\", line 787, in inner\n",
      "    self.run()\n",
      "  File \"C:\\Users\\Rudy\\Anaconda3\\lib\\site-packages\\tornado\\gen.py\", line 748, in run\n",
      "    yielded = self.gen.send(value)\n",
      "  File \"C:\\Users\\Rudy\\Anaconda3\\lib\\site-packages\\ipykernel\\kernelbase.py\", line 365, in process_one\n",
      "    yield gen.maybe_future(dispatch(*args))\n",
      "  File \"C:\\Users\\Rudy\\Anaconda3\\lib\\site-packages\\tornado\\gen.py\", line 209, in wrapper\n",
      "    yielded = next(result)\n",
      "  File \"C:\\Users\\Rudy\\Anaconda3\\lib\\site-packages\\ipykernel\\kernelbase.py\", line 272, in dispatch_shell\n",
      "    yield gen.maybe_future(handler(stream, idents, msg))\n",
      "  File \"C:\\Users\\Rudy\\Anaconda3\\lib\\site-packages\\tornado\\gen.py\", line 209, in wrapper\n",
      "    yielded = next(result)\n",
      "  File \"C:\\Users\\Rudy\\Anaconda3\\lib\\site-packages\\ipykernel\\kernelbase.py\", line 542, in execute_request\n",
      "    user_expressions, allow_stdin,\n",
      "  File \"C:\\Users\\Rudy\\Anaconda3\\lib\\site-packages\\tornado\\gen.py\", line 209, in wrapper\n",
      "    yielded = next(result)\n",
      "  File \"C:\\Users\\Rudy\\Anaconda3\\lib\\site-packages\\ipykernel\\ipkernel.py\", line 294, in do_execute\n",
      "    res = shell.run_cell(code, store_history=store_history, silent=silent)\n",
      "  File \"C:\\Users\\Rudy\\Anaconda3\\lib\\site-packages\\ipykernel\\zmqshell.py\", line 536, in run_cell\n",
      "    return super(ZMQInteractiveShell, self).run_cell(*args, **kwargs)\n",
      "  File \"C:\\Users\\Rudy\\Anaconda3\\lib\\site-packages\\IPython\\core\\interactiveshell.py\", line 2855, in run_cell\n",
      "    raw_cell, store_history, silent, shell_futures)\n",
      "  File \"C:\\Users\\Rudy\\Anaconda3\\lib\\site-packages\\IPython\\core\\interactiveshell.py\", line 2881, in _run_cell\n",
      "    return runner(coro)\n",
      "  File \"C:\\Users\\Rudy\\Anaconda3\\lib\\site-packages\\IPython\\core\\async_helpers.py\", line 68, in _pseudo_sync_runner\n",
      "    coro.send(None)\n",
      "  File \"C:\\Users\\Rudy\\Anaconda3\\lib\\site-packages\\IPython\\core\\interactiveshell.py\", line 3058, in run_cell_async\n",
      "    interactivity=interactivity, compiler=compiler, result=result)\n",
      "  File \"C:\\Users\\Rudy\\Anaconda3\\lib\\site-packages\\IPython\\core\\interactiveshell.py\", line 3249, in run_ast_nodes\n",
      "    if (await self.run_code(code, result,  async_=asy)):\n",
      "  File \"C:\\Users\\Rudy\\Anaconda3\\lib\\site-packages\\IPython\\core\\interactiveshell.py\", line 3326, in run_code\n",
      "    exec(code_obj, self.user_global_ns, self.user_ns)\n",
      "  File \"<ipython-input-13-a532a706f3a1>\", line 6, in <module>\n",
      "    f1()\n",
      "  File \"<ipython-input-13-a532a706f3a1>\", line 4, in f1\n",
      "    def f1():return abc()\n",
      "  File \"<ipython-input-13-a532a706f3a1>\", line 5, in abc\n",
      "    def abc():traceback.print_stack()\n"
     ]
    }
   ],
   "source": [
    "#Problem: Program to print the current call stack\n",
    "import traceback\n",
    "print()\n",
    "def f1():return abc()\n",
    "def abc():traceback.print_stack()\n",
    "f1()\n",
    "print()"
   ]
  },
  {
   "cell_type": "code",
   "execution_count": 14,
   "metadata": {},
   "outputs": [
    {
     "name": "stdout",
     "output_type": "stream",
     "text": [
      "\n",
      "ArithmeticError AssertionError AttributeError BaseException BlockingIOError BrokenPipeError BufferError BytesWarning\n",
      "ChildProcessError ConnectionAbortedError ConnectionError ConnectionRefusedError ConnectionResetError DeprecationWarning EOFError Ellipsis\n",
      "EnvironmentError Exception False FileExistsError FileNotFoundError FloatingPointError FutureWarning GeneratorExit\n",
      "IOError ImportError ImportWarning In IndentationError IndexError InterruptedError IsADirectoryError\n",
      "KeyError KeyboardInterrupt LookupError MemoryError ModuleNotFoundError NameError None NotADirectoryError\n",
      "NotImplemented NotImplementedError OSError Out OverflowError PendingDeprecationWarning PermissionError ProcessLookupError\n",
      "RecursionError ReferenceError ResourceWarning RuntimeError RuntimeWarning StopAsyncIteration StopIteration SyntaxError\n",
      "SyntaxWarning SystemError SystemExit TabError TimeoutError True TypeError UnboundLocalError\n",
      "UnicodeDecodeError UnicodeEncodeError UnicodeError UnicodeTranslateError UnicodeWarning UserWarning ValueError Warning\n",
      "WindowsError ZeroDivisionError __ __IPYTHON__ ___ __build_class__ __builtin__ __builtins__\n",
      "__debug__ __doc__ __import__ __loader__ __name__ __package__ __spec__ _dh\n",
      "_i _i1 _i10 _i11 _i12 _i13 _i14 _i2\n",
      "_i3 _i4 _i5 _i6 _i7 _i8 _i9 _ih\n",
      "_ii _iii _oh a abc abs all any\n",
      "ascii b bin bool breakpoint bytearray bytes callable\n",
      "chr classmethod compile complex copyright credits delattr dict\n",
      "dir display divmod enumerate eval exec exit f1\n",
      "file_size filter float format frozenset get_ipython getattr globals\n",
      "hasattr hash help hex id input int isinstance\n",
      "issubclass iter len license list locals map max\n",
      "memoryview min n next obj1 obj1_address object oct\n",
      "open ord os path pow print property quit\n",
      "range repr reversed round s set setattr slice\n",
      "sorted staticmethod str sum super traceback tuple type\n",
      "vars x y zip\n",
      "\n"
     ]
    }
   ],
   "source": [
    "#Problem: Program to list the special variables used within the language\n",
    "s_var_names = sorted((set(globals().keys()) | set(__builtins__.__dict__.keys())) - set('_ names i'.split()))\n",
    "print()\n",
    "print( '\\n'.join(' '.join(s_var_names[i:i+8]) for i in range(0, len(s_var_names), 8)) )\n",
    "print()"
   ]
  },
  {
   "cell_type": "code",
   "execution_count": 15,
   "metadata": {},
   "outputs": [
    {
     "name": "stdout",
     "output_type": "stream",
     "text": [
      "\n",
      "Wed May 12 17:30:03 2021\n",
      "\n"
     ]
    }
   ],
   "source": [
    "#Problem: Program to get the system time\n",
    "import time\n",
    "print()\n",
    "print(time.ctime())\n",
    "print()"
   ]
  },
  {
   "cell_type": "code",
   "execution_count": 16,
   "metadata": {},
   "outputs": [
    {
     "data": {
      "text/plain": [
       "1"
      ]
     },
     "execution_count": 16,
     "metadata": {},
     "output_type": "execute_result"
    }
   ],
   "source": [
    "#Problem: Program to clear the screen or terminal\n",
    "import os\n",
    "import time\n",
    "# for windows\n",
    "# os.system('cls')\n",
    "os.system(\"ls\")\n",
    "time.sleep(2)\n",
    "# Ubuntu version 10.10\n",
    "os.system('clear')"
   ]
  },
  {
   "cell_type": "code",
   "execution_count": 17,
   "metadata": {},
   "outputs": [
    {
     "name": "stdout",
     "output_type": "stream",
     "text": [
      "\n",
      "Host name: Rudy-Lenovo\n",
      "\n"
     ]
    }
   ],
   "source": [
    "#Problem: Program to get the name of the host on which the routine is running\n",
    "import socket\n",
    "host_name = socket.gethostname()\n",
    "print()\n",
    "print(\"Host name:\", host_name)\n",
    "print()"
   ]
  },
  {
   "cell_type": "code",
   "execution_count": 18,
   "metadata": {},
   "outputs": [
    {
     "name": "stdout",
     "output_type": "stream",
     "text": [
      "b'<!doctype html>\\n<html>\\n<head>\\n    <title>Example Domain</title>\\n\\n    <meta charset=\"utf-8\" />\\n    <meta http-equiv=\"Content-type\" content=\"text/html; charset=utf-8\" />\\n    <meta name=\"viewport\" content=\"width=device-width, initial-scale=1\" />\\n    <style type=\"text/css\">\\n    body {\\n        background-color: #f0f0f2;\\n        margin: 0;\\n        padding: 0;\\n        font-family: -apple-system, system-ui, BlinkMacSystemFont, \"Segoe UI\", \"Open Sans\", \"Helvetica Neue\", Helvetica, Arial, sans-serif;\\n        \\n    }\\n    div {\\n        width: 600px;\\n        margin: 5em auto;\\n        padding: 2em;\\n        background-color: #fdfdff;\\n        border-radius: 0.5em;\\n        box-shadow: 2px 3px 7px 2px rgba(0,0,0,0.02);\\n    }\\n    a:link, a:visited {\\n        color: #38488f;\\n        text-decoration: none;\\n    }\\n    @media (max-width: 700px) {\\n        div {\\n            margin: 0 auto;\\n            width: auto;\\n        }\\n    }\\n    </style>    \\n</head>\\n\\n<body>\\n<div>\\n    <h1>Example Domain</h1>\\n    <p>This domain is for use in illustrative examples in documents. You may use this\\n    domain in literature without prior coordination or asking for permission.</p>\\n    <p><a href=\"https://www.iana.org/domains/example\">More information...</a></p>\\n</div>\\n</body>\\n</html>\\n'\n"
     ]
    }
   ],
   "source": [
    "#Problem: Program to access and print a URL's content to the console\n",
    "from http.client import HTTPConnection\n",
    "conn = HTTPConnection(\"example.com\")\n",
    "conn.request(\"GET\", \"/\")  \n",
    "result = conn.getresponse()\n",
    "# retrieves the entire contents.  \n",
    "contents = result.read() \n",
    "print(contents)"
   ]
  },
  {
   "cell_type": "code",
   "execution_count": 19,
   "metadata": {},
   "outputs": [
    {
     "name": "stdout",
     "output_type": "stream",
     "text": [
      "dir command to list file and directory\n",
      " Volume in drive C is Windows\n",
      " Volume Serial Number is BA12-B898\n",
      "\n",
      " Directory of C:\\Users\\Rudy\n",
      "\n",
      "12-May-21  05:33 PM    <DIR>          .\n",
      "12-May-21  05:33 PM    <DIR>          ..\n",
      "14-Nov-19  09:13 PM    <DIR>          .anaconda\n",
      "01-Sep-20  02:09 AM    <DIR>          .android\n",
      "01-Sep-20  02:07 AM    <DIR>          .AndroidStudio4.0\n",
      "14-Oct-20  02:01 PM    <DIR>          .cache\n",
      "23-Apr-21  04:26 PM    <DIR>          .conda\n",
      "23-Apr-21  04:25 PM                43 .condarc\n",
      "02-Dec-19  10:04 PM    <DIR>          .config\n",
      "21-Aug-20  07:27 PM               382 .gitconfig\n",
      "14-Nov-19  08:36 PM    <DIR>          .idlerc\n",
      "07-May-21  10:14 AM    <DIR>          .ipynb_checkpoints\n",
      "14-Nov-19  09:16 PM    <DIR>          .ipython\n",
      "03-Dec-19  04:25 PM    <DIR>          .jupyter\n",
      "02-Dec-19  10:03 PM    <DIR>          .matplotlib\n",
      "29-Nov-20  11:17 AM    <DIR>          .Origin\n",
      "23-Feb-20  11:08 PM    <DIR>          .pencil\n",
      "03-Dec-19  04:12 PM    <DIR>          .pylint.d\n",
      "03-Dec-19  01:46 AM                 7 .python_history\n",
      "29-Nov-20  11:17 AM    <DIR>          .QtWebEngineProcess\n",
      "03-Dec-19  04:24 PM    <DIR>          .spyder-py3\n",
      "14-Nov-19  08:55 PM    <DIR>          .vscode\n",
      "22-Jun-20  02:20 PM    <DIR>          3D Objects\n",
      "05-May-21  11:47 PM                 0 abc.txt\n",
      "14-Nov-19  09:10 PM    <DIR>          Anaconda3\n",
      "24-Sep-20  09:52 PM    <DIR>          Apple\n",
      "22-Jun-20  02:20 PM    <DIR>          Contacts\n",
      "24-Sep-20  10:37 PM    <DIR>          Creative Cloud Files\n",
      "11-May-21  11:57 PM    <DIR>          Desktop\n",
      "11-May-21  11:57 PM    <DIR>          Documents\n",
      "11-May-21  11:15 PM    <DIR>          Downloads\n",
      "22-Jun-20  02:20 PM    <DIR>          Favorites\n",
      "23-Sep-20  08:49 PM                31 file.json\n",
      "23-Sep-20  08:53 PM                12 file.pkl\n",
      "11-May-21  10:37 PM    <DIR>          Google Drive\n",
      "28-Aug-20  01:51 AM    <DIR>          handson-ml\n",
      "22-Jun-20  02:20 PM    <DIR>          Links\n",
      "22-Jun-20  02:20 PM    <DIR>          Music\n",
      "11-May-21  10:43 PM    <DIR>          OneDrive\n",
      "04-Apr-21  07:00 PM    <DIR>          Pictures\n",
      "07-May-21  10:47 AM            21,981 Practice.ipynb\n",
      "21-Aug-20  07:36 PM    <DIR>          python-3\n",
      "22-Jun-20  02:20 PM    <DIR>          Saved Games\n",
      "22-Jun-20  02:20 PM    <DIR>          Searches\n",
      "11-May-21  08:36 PM             9,572 Untitled.ipynb\n",
      "20-Dec-19  09:44 PM               555 Untitled2.ipynb\n",
      "23-Feb-20  01:36 PM             2,320 Untitled3.ipynb\n",
      "03-Jul-20  01:47 PM    <DIR>          Videos\n",
      "12-May-21  05:33 PM            85,579 w3resource Basic Part 1 Python Practice.ipynb\n",
      "              11 File(s)        120,482 bytes\n",
      "              38 Dir(s)  21,967,536,128 bytes free\n",
      "\n"
     ]
    }
   ],
   "source": [
    "#Problem: Program to get system command output\n",
    "import subprocess\n",
    "# file and directory listing\n",
    "returned_text = subprocess.check_output(\"dir\", shell=True, universal_newlines=True)\n",
    "print(\"dir command to list file and directory\")\n",
    "print(returned_text)"
   ]
  },
  {
   "cell_type": "code",
   "execution_count": 20,
   "metadata": {},
   "outputs": [
    {
     "name": "stdout",
     "output_type": "stream",
     "text": [
      "\n",
      "homework-1.py\n",
      "\n"
     ]
    }
   ],
   "source": [
    "#Problem: Program to extract the filename from a given path\n",
    "import os\n",
    "print()\n",
    "print(os.path.basename('/users/system1/student1/homework-1.py'))\n",
    "print()"
   ]
  },
  {
   "cell_type": "code",
   "execution_count": 21,
   "metadata": {},
   "outputs": [
    {
     "ename": "AttributeError",
     "evalue": "module 'os' has no attribute 'getegid'",
     "output_type": "error",
     "traceback": [
      "\u001b[1;31m---------------------------------------------------------------------------\u001b[0m",
      "\u001b[1;31mAttributeError\u001b[0m                            Traceback (most recent call last)",
      "\u001b[1;32m<ipython-input-21-8c6ba25ae471>\u001b[0m in \u001b[0;36m<module>\u001b[1;34m\u001b[0m\n\u001b[0;32m      2\u001b[0m \u001b[1;31m#with the current process\u001b[0m\u001b[1;33m\u001b[0m\u001b[1;33m\u001b[0m\u001b[1;33m\u001b[0m\u001b[0m\n\u001b[0;32m      3\u001b[0m \u001b[1;32mimport\u001b[0m \u001b[0mos\u001b[0m\u001b[1;33m\u001b[0m\u001b[1;33m\u001b[0m\u001b[0m\n\u001b[1;32m----> 4\u001b[1;33m \u001b[0mprint\u001b[0m\u001b[1;33m(\u001b[0m\u001b[1;34m\"\\nEffective group id: \"\u001b[0m\u001b[1;33m,\u001b[0m\u001b[0mos\u001b[0m\u001b[1;33m.\u001b[0m\u001b[0mgetegid\u001b[0m\u001b[1;33m(\u001b[0m\u001b[1;33m)\u001b[0m\u001b[1;33m)\u001b[0m\u001b[1;33m\u001b[0m\u001b[1;33m\u001b[0m\u001b[0m\n\u001b[0m\u001b[0;32m      5\u001b[0m \u001b[0mprint\u001b[0m\u001b[1;33m(\u001b[0m\u001b[1;34m\"Effective user id: \"\u001b[0m\u001b[1;33m,\u001b[0m\u001b[0mos\u001b[0m\u001b[1;33m.\u001b[0m\u001b[0mgeteuid\u001b[0m\u001b[1;33m(\u001b[0m\u001b[1;33m)\u001b[0m\u001b[1;33m)\u001b[0m\u001b[1;33m\u001b[0m\u001b[1;33m\u001b[0m\u001b[0m\n\u001b[0;32m      6\u001b[0m \u001b[0mprint\u001b[0m\u001b[1;33m(\u001b[0m\u001b[1;34m\"Real group id: \"\u001b[0m\u001b[1;33m,\u001b[0m\u001b[0mos\u001b[0m\u001b[1;33m.\u001b[0m\u001b[0mgetgid\u001b[0m\u001b[1;33m(\u001b[0m\u001b[1;33m)\u001b[0m\u001b[1;33m)\u001b[0m\u001b[1;33m\u001b[0m\u001b[1;33m\u001b[0m\u001b[0m\n",
      "\u001b[1;31mAttributeError\u001b[0m: module 'os' has no attribute 'getegid'"
     ]
    }
   ],
   "source": [
    "#Problem: Program to get the effective group id, effective user id, real group id, a list of supplemental group ids associated \n",
    "#with the current process\n",
    "import os\n",
    "print(\"\\nEffective group id: \",os.getegid())\n",
    "print(\"Effective user id: \",os.geteuid())\n",
    "print(\"Real group id: \",os.getgid())\n",
    "print(\"List of supplemental group ids: \",os.getgroups())\n",
    "print()"
   ]
  },
  {
   "cell_type": "code",
   "execution_count": 22,
   "metadata": {},
   "outputs": [
    {
     "name": "stdout",
     "output_type": "stream",
     "text": [
      "\n",
      "environ({'ALLUSERSPROFILE': 'C:\\\\ProgramData', 'APPDATA': 'C:\\\\Users\\\\Rudy\\\\AppData\\\\Roaming', 'COMMONPROGRAMFILES': 'C:\\\\Program Files\\\\Common Files', 'COMMONPROGRAMFILES(X86)': 'C:\\\\Program Files (x86)\\\\Common Files', 'COMMONPROGRAMW6432': 'C:\\\\Program Files\\\\Common Files', 'COMPUTERNAME': 'RUDY-LENOVO', 'COMSPEC': 'C:\\\\WINDOWS\\\\system32\\\\cmd.exe', 'DRIVERDATA': 'C:\\\\Windows\\\\System32\\\\Drivers\\\\DriverData', 'HOMEDRIVE': 'C:', 'HOMEPATH': '\\\\Users\\\\Rudy', 'LOCALAPPDATA': 'C:\\\\Users\\\\Rudy\\\\AppData\\\\Local', 'LOGONSERVER': '\\\\\\\\RUDY-LENOVO', 'NUMBER_OF_PROCESSORS': '4', 'ONEDRIVE': 'C:\\\\Users\\\\Rudy\\\\OneDrive', 'ONEDRIVECONSUMER': 'C:\\\\Users\\\\Rudy\\\\OneDrive', 'OS': 'Windows_NT', 'PATH': 'C:\\\\Users\\\\Rudy\\\\Anaconda3;C:\\\\Users\\\\Rudy\\\\Anaconda3\\\\Library\\\\mingw-w64\\\\bin;C:\\\\Users\\\\Rudy\\\\Anaconda3\\\\Library\\\\usr\\\\bin;C:\\\\Users\\\\Rudy\\\\Anaconda3\\\\Library\\\\bin;C:\\\\Users\\\\Rudy\\\\Anaconda3\\\\Scripts;C:\\\\ProgramData\\\\Oracle\\\\Java\\\\javapath;C:\\\\WINDOWS\\\\system32;C:\\\\WINDOWS;C:\\\\WINDOWS\\\\System32\\\\Wbem;C:\\\\WINDOWS\\\\System32\\\\WindowsPowerShell\\\\v1.0\\\\;C:\\\\WINDOWS\\\\System32\\\\OpenSSH\\\\;C:\\\\Program Files\\\\Git\\\\cmd;C:\\\\Program Files\\\\MySQL\\\\MySQL Shell 8.0\\\\bin\\\\;C:\\\\Users\\\\Rudy\\\\Anaconda3;C:\\\\Users\\\\Rudy\\\\Anaconda3\\\\Library\\\\mingw-w64\\\\bin;C:\\\\Users\\\\Rudy\\\\Anaconda3\\\\Library\\\\usr\\\\bin;C:\\\\Users\\\\Rudy\\\\Anaconda3\\\\Library\\\\bin;C:\\\\Users\\\\Rudy\\\\Anaconda3\\\\Scripts;C:\\\\python37\\\\Scripts\\\\;C:\\\\python37\\\\;C:\\\\Users\\\\Rudy\\\\AppData\\\\Local\\\\Microsoft\\\\WindowsApps;C:\\\\Users\\\\Rudy\\\\AppData\\\\Local\\\\Programs\\\\Microsoft VS Code\\\\bin;C:\\\\Python27;C:\\\\Users\\\\Rudy\\\\AppData\\\\Local\\\\GitHubDesktop\\\\bin;%USERPROFILE%\\\\AppData\\\\Local\\\\Microsoft\\\\WindowsApps;', 'PATHEXT': '.COM;.EXE;.BAT;.CMD;.VBS;.VBE;.JS;.JSE;.WSF;.WSH;.MSC', 'PROCESSOR_ARCHITECTURE': 'AMD64', 'PROCESSOR_IDENTIFIER': 'Intel64 Family 6 Model 69 Stepping 1, GenuineIntel', 'PROCESSOR_LEVEL': '6', 'PROCESSOR_REVISION': '4501', 'PROGRAMDATA': 'C:\\\\ProgramData', 'PROGRAMFILES': 'C:\\\\Program Files', 'PROGRAMFILES(X86)': 'C:\\\\Program Files (x86)', 'PROGRAMW6432': 'C:\\\\Program Files', 'PSMODULEPATH': 'C:\\\\Program Files\\\\WindowsPowerShell\\\\Modules;C:\\\\WINDOWS\\\\system32\\\\WindowsPowerShell\\\\v1.0\\\\Modules', 'PUBLIC': 'C:\\\\Users\\\\Public', 'SESSIONNAME': 'Console', 'SYSTEMDRIVE': 'C:', 'SYSTEMROOT': 'C:\\\\WINDOWS', 'TEMP': 'C:\\\\Users\\\\Rudy\\\\AppData\\\\Local\\\\Temp', 'TMP': 'C:\\\\Users\\\\Rudy\\\\AppData\\\\Local\\\\Temp', 'USERDOMAIN': 'RUDY-LENOVO', 'USERDOMAIN_ROAMINGPROFILE': 'RUDY-LENOVO', 'USERNAME': 'Rudy', 'USERPROFILE': 'C:\\\\Users\\\\Rudy', 'WINDIR': 'C:\\\\WINDOWS', 'CONDA_PREFIX': 'C:\\\\Users\\\\Rudy\\\\Anaconda3', 'KERNEL_LAUNCH_TIMEOUT': '40', 'JPY_INTERRUPT_EVENT': '2728', 'IPY_INTERRUPT_EVENT': '2728', 'JPY_PARENT_PID': '2616', 'TERM': 'xterm-color', 'CLICOLOR': '1', 'PAGER': 'cat', 'GIT_PAGER': 'cat', 'MPLBACKEND': 'module://ipykernel.pylab.backend_inline'})\n",
      "\n"
     ]
    }
   ],
   "source": [
    "#Problem: Program to get the users environment\n",
    "import os\n",
    "print()\n",
    "print(os.environ)\n",
    "print()"
   ]
  },
  {
   "cell_type": "code",
   "execution_count": 23,
   "metadata": {},
   "outputs": [
    {
     "name": "stdout",
     "output_type": "stream",
     "text": [
      "\"test.txt\" : ('test', '.txt')\n",
      "\"filename\" : ('filename', '')\n",
      "\"/user/system/test.txt\" : ('/user/system/test', '.txt')\n",
      "\"/\" : ('/', '')\n",
      "\"\" : ('', '')\n"
     ]
    }
   ],
   "source": [
    "#Problem: Program to divide a path on the extension separator\n",
    "import os.path\n",
    "for path in [ 'test.txt', 'filename', '/user/system/test.txt', '/', '' ]:\n",
    "    print('\"%s\" :' % path, os.path.splitext(path))"
   ]
  },
  {
   "cell_type": "code",
   "execution_count": 24,
   "metadata": {},
   "outputs": [
    {
     "ename": "NameError",
     "evalue": "name '__file__' is not defined",
     "output_type": "error",
     "traceback": [
      "\u001b[1;31m---------------------------------------------------------------------------\u001b[0m",
      "\u001b[1;31mNameError\u001b[0m                                 Traceback (most recent call last)",
      "\u001b[1;32m<ipython-input-24-23219d77e960>\u001b[0m in \u001b[0;36m<module>\u001b[1;34m\u001b[0m\n\u001b[0;32m      3\u001b[0m \u001b[1;32mimport\u001b[0m \u001b[0mtime\u001b[0m\u001b[1;33m\u001b[0m\u001b[1;33m\u001b[0m\u001b[0m\n\u001b[0;32m      4\u001b[0m \u001b[1;33m\u001b[0m\u001b[0m\n\u001b[1;32m----> 5\u001b[1;33m \u001b[0mprint\u001b[0m\u001b[1;33m(\u001b[0m\u001b[1;34m'File         :'\u001b[0m\u001b[1;33m,\u001b[0m \u001b[0m__file__\u001b[0m\u001b[1;33m)\u001b[0m\u001b[1;33m\u001b[0m\u001b[1;33m\u001b[0m\u001b[0m\n\u001b[0m\u001b[0;32m      6\u001b[0m \u001b[0mprint\u001b[0m\u001b[1;33m(\u001b[0m\u001b[1;34m'Access time  :'\u001b[0m\u001b[1;33m,\u001b[0m \u001b[0mtime\u001b[0m\u001b[1;33m.\u001b[0m\u001b[0mctime\u001b[0m\u001b[1;33m(\u001b[0m\u001b[0mos\u001b[0m\u001b[1;33m.\u001b[0m\u001b[0mpath\u001b[0m\u001b[1;33m.\u001b[0m\u001b[0mgetatime\u001b[0m\u001b[1;33m(\u001b[0m\u001b[0m__file__\u001b[0m\u001b[1;33m)\u001b[0m\u001b[1;33m)\u001b[0m\u001b[1;33m)\u001b[0m\u001b[1;33m\u001b[0m\u001b[1;33m\u001b[0m\u001b[0m\n\u001b[0;32m      7\u001b[0m \u001b[0mprint\u001b[0m\u001b[1;33m(\u001b[0m\u001b[1;34m'Modified time:'\u001b[0m\u001b[1;33m,\u001b[0m \u001b[0mtime\u001b[0m\u001b[1;33m.\u001b[0m\u001b[0mctime\u001b[0m\u001b[1;33m(\u001b[0m\u001b[0mos\u001b[0m\u001b[1;33m.\u001b[0m\u001b[0mpath\u001b[0m\u001b[1;33m.\u001b[0m\u001b[0mgetmtime\u001b[0m\u001b[1;33m(\u001b[0m\u001b[0m__file__\u001b[0m\u001b[1;33m)\u001b[0m\u001b[1;33m)\u001b[0m\u001b[1;33m)\u001b[0m\u001b[1;33m\u001b[0m\u001b[1;33m\u001b[0m\u001b[0m\n",
      "\u001b[1;31mNameError\u001b[0m: name '__file__' is not defined"
     ]
    }
   ],
   "source": [
    "#Problem: Program to retrieve file properties\n",
    "import os.path\n",
    "import time\n",
    "\n",
    "print('File         :', __file__)\n",
    "print('Access time  :', time.ctime(os.path.getatime(__file__)))\n",
    "print('Modified time:', time.ctime(os.path.getmtime(__file__)))\n",
    "print('Change time  :', time.ctime(os.path.getctime(__file__)))\n",
    "print('Size         :', os.path.getsize(__file__))"
   ]
  },
  {
   "cell_type": "code",
   "execution_count": 25,
   "metadata": {},
   "outputs": [
    {
     "ename": "NameError",
     "evalue": "name '__file__' is not defined",
     "output_type": "error",
     "traceback": [
      "\u001b[1;31m---------------------------------------------------------------------------\u001b[0m",
      "\u001b[1;31mNameError\u001b[0m                                 Traceback (most recent call last)",
      "\u001b[1;32m<ipython-input-25-e398c9edc51d>\u001b[0m in \u001b[0;36m<module>\u001b[1;34m\u001b[0m\n\u001b[0;32m      2\u001b[0m \u001b[1;32mimport\u001b[0m \u001b[0mos\u001b[0m\u001b[1;33m.\u001b[0m\u001b[0mpath\u001b[0m\u001b[1;33m\u001b[0m\u001b[1;33m\u001b[0m\u001b[0m\n\u001b[0;32m      3\u001b[0m \u001b[1;33m\u001b[0m\u001b[0m\n\u001b[1;32m----> 4\u001b[1;33m \u001b[1;32mfor\u001b[0m \u001b[0mfile\u001b[0m \u001b[1;32min\u001b[0m \u001b[1;33m[\u001b[0m \u001b[0m__file__\u001b[0m\u001b[1;33m,\u001b[0m \u001b[0mos\u001b[0m\u001b[1;33m.\u001b[0m\u001b[0mpath\u001b[0m\u001b[1;33m.\u001b[0m\u001b[0mdirname\u001b[0m\u001b[1;33m(\u001b[0m\u001b[0m__file__\u001b[0m\u001b[1;33m)\u001b[0m\u001b[1;33m,\u001b[0m \u001b[1;34m'/'\u001b[0m\u001b[1;33m,\u001b[0m \u001b[1;34m'./broken_link'\u001b[0m\u001b[1;33m]\u001b[0m\u001b[1;33m:\u001b[0m\u001b[1;33m\u001b[0m\u001b[1;33m\u001b[0m\u001b[0m\n\u001b[0m\u001b[0;32m      5\u001b[0m     \u001b[0mprint\u001b[0m\u001b[1;33m(\u001b[0m\u001b[1;34m'File        :'\u001b[0m\u001b[1;33m,\u001b[0m \u001b[0mfile\u001b[0m\u001b[1;33m)\u001b[0m\u001b[1;33m\u001b[0m\u001b[1;33m\u001b[0m\u001b[0m\n\u001b[0;32m      6\u001b[0m     \u001b[0mprint\u001b[0m\u001b[1;33m(\u001b[0m\u001b[1;34m'Absolute    :'\u001b[0m\u001b[1;33m,\u001b[0m \u001b[0mos\u001b[0m\u001b[1;33m.\u001b[0m\u001b[0mpath\u001b[0m\u001b[1;33m.\u001b[0m\u001b[0misabs\u001b[0m\u001b[1;33m(\u001b[0m\u001b[0mfile\u001b[0m\u001b[1;33m)\u001b[0m\u001b[1;33m)\u001b[0m\u001b[1;33m\u001b[0m\u001b[1;33m\u001b[0m\u001b[0m\n",
      "\u001b[1;31mNameError\u001b[0m: name '__file__' is not defined"
     ]
    }
   ],
   "source": [
    "#Problem: Program to find path refers to a file or directory when you encounter a path name\n",
    "import os.path\n",
    "\n",
    "for file in [ __file__, os.path.dirname(__file__), '/', './broken_link']:\n",
    "    print('File        :', file)\n",
    "    print('Absolute    :', os.path.isabs(file))\n",
    "    print('Is File?    :', os.path.isfile(file))\n",
    "    print('Is Dir?     :', os.path.isdir(file))\n",
    "    print('Is Link?    :', os.path.islink(file))\n",
    "    print('Exists?     :', os.path.exists(file))\n",
    "    print('Link Exists?:', os.path.lexists(file))"
   ]
  },
  {
   "cell_type": "code",
   "execution_count": 27,
   "metadata": {},
   "outputs": [
    {
     "name": "stdout",
     "output_type": "stream",
     "text": [
      "Input a number: -0\n",
      "It is Zero\n"
     ]
    }
   ],
   "source": [
    "#Problem: Program to check if a number is positive, negative or zero\n",
    "num = float(input(\"Input a number: \"))\n",
    "if num > 0:\n",
    "   print(\"It is positive number\")\n",
    "elif num == 0:\n",
    "   print(\"It is Zero\")\n",
    "else:\n",
    "   print(\"It is a negative number\")"
   ]
  },
  {
   "cell_type": "code",
   "execution_count": 28,
   "metadata": {},
   "outputs": [
    {
     "name": "stdout",
     "output_type": "stream",
     "text": [
      "Numbers divisible by 15 are [45, 60, 105]\n"
     ]
    }
   ],
   "source": [
    "#Problem: Program to get numbers divisible by fifteen from a list using an anonymous function\n",
    "num_list = [45, 55, 60, 37, 100, 105, 220]\n",
    "# use anonymous function to filter\n",
    "result = list(filter(lambda x: (x % 15 == 0), num_list))\n",
    "print(\"Numbers divisible by 15 are\",result)"
   ]
  },
  {
   "cell_type": "code",
   "execution_count": 29,
   "metadata": {},
   "outputs": [
    {
     "name": "stdout",
     "output_type": "stream",
     "text": [
      "['abc.txt', 'file.json', 'file.pkl', 'NTUSER.DAT', 'ntuser.dat.LOG1', 'ntuser.dat.LOG2', 'NTUSER.DAT{43c79d93-b464-11ea-9b91-865c1eb8b180}.TM.blf', 'NTUSER.DAT{43c79d93-b464-11ea-9b91-865c1eb8b180}.TMContainer00000000000000000001.regtrans-ms', 'NTUSER.DAT{43c79d93-b464-11ea-9b91-865c1eb8b180}.TMContainer00000000000000000002.regtrans-ms', 'ntuser.ini', 'Practice.ipynb', 'Untitled.ipynb', 'Untitled2.ipynb', 'Untitled3.ipynb', 'w3resource Basic Part 1 Python Practice.ipynb']\n"
     ]
    }
   ],
   "source": [
    "#Problem: Program to make file lists from current directory using a wildcard\n",
    "import glob\n",
    "file_list = glob.glob('*.*')\n",
    "print(file_list)"
   ]
  },
  {
   "cell_type": "code",
   "execution_count": 30,
   "metadata": {},
   "outputs": [
    {
     "name": "stdout",
     "output_type": "stream",
     "text": [
      "\n",
      "Original Color:  ['Red', 'Black', 'Green', 'White', 'Orange']\n",
      "After removing the first color:  ['Black', 'Green', 'White', 'Orange']\n",
      "\n"
     ]
    }
   ],
   "source": [
    "#Problem: Program to remove the first item from a specified list\n",
    "color = [\"Red\", \"Black\", \"Green\", \"White\", \"Orange\"]\n",
    "print(\"\\nOriginal Color: \",color)\n",
    "del color[0]\n",
    "print(\"After removing the first color: \",color)\n",
    "print()"
   ]
  },
  {
   "cell_type": "code",
   "execution_count": 31,
   "metadata": {},
   "outputs": [
    {
     "name": "stdout",
     "output_type": "stream",
     "text": [
      "Input a number: 1s\n",
      "\n",
      "This is not a number. Try again...\n",
      "\n",
      "Input a number: 1\n"
     ]
    }
   ],
   "source": [
    "#Problem: Program to input a number, if it is not a number generate an error message\n",
    "while True:\n",
    "    try:\n",
    "        a = int(input(\"Input a number: \"))\n",
    "        break\n",
    "    except ValueError:\n",
    "        print(\"\\nThis is not a number. Try again...\")\n",
    "        print()"
   ]
  },
  {
   "cell_type": "code",
   "execution_count": 32,
   "metadata": {},
   "outputs": [
    {
     "name": "stdout",
     "output_type": "stream",
     "text": [
      "Original numbers in the list:  [34, 1, 0, -23]\n",
      "Positive numbers in the list:  [34, 1]\n"
     ]
    }
   ],
   "source": [
    "#Problem: Program to filter the positive numbers from a list\n",
    "nums = [34, 1, 0, -23]\n",
    "print(\"Original numbers in the list: \",nums)\n",
    "new_nums = list(filter(lambda x: x >0, nums))\n",
    "print(\"Positive numbers in the list: \",new_nums)"
   ]
  },
  {
   "cell_type": "code",
   "execution_count": 33,
   "metadata": {},
   "outputs": [
    {
     "name": "stdout",
     "output_type": "stream",
     "text": [
      "Product of the numbers :  6000\n"
     ]
    }
   ],
   "source": [
    "#Problem: Program to compute the product of a list of integers (without using for loop)\n",
    "from functools import reduce\n",
    "nums = [10, 20, 30,]\n",
    "nums_product = reduce( (lambda x, y: x * y), nums)\n",
    "print(\"Product of the numbers : \",nums_product)"
   ]
  },
  {
   "cell_type": "code",
   "execution_count": 34,
   "metadata": {},
   "outputs": [
    {
     "name": "stdout",
     "output_type": "stream",
     "text": [
      "\n",
      "Python Exercises - w3resource\n",
      "\n"
     ]
    }
   ],
   "source": [
    "#Problem: Program to print Unicode characters\n",
    "str = u'\\u0050\\u0079\\u0074\\u0068\\u006f\\u006e \\u0045\\u0078\\u0065\\u0072\\u0063\\u0069\\u0073\\u0065\\u0073 \\u002d \\u0077\\u0033\\u0072\\u0065\\u0073\\u006f\\u0075\\u0072\\u0063\\u0065'\n",
    "print()\n",
    "print(str)\n",
    "print()"
   ]
  },
  {
   "cell_type": "code",
   "execution_count": 36,
   "metadata": {},
   "outputs": [
    {
     "name": "stdout",
     "output_type": "stream",
     "text": [
      "\n",
      "Memory location of str1 = 0x1cb073674b0\n",
      "Memory location of str2 = 0x1cb07173db0\n",
      "\n"
     ]
    }
   ],
   "source": [
    "#Problem: Program to prove that two string variables of same value point same memory location\n",
    "str1 = \"Python\"\n",
    "str2 = \"code\"\n",
    " \n",
    "print(\"\\nMemory location of str1 =\", hex(id(str1)))\n",
    "print(\"Memory location of str2 =\", hex(id(str2)))\n",
    "print()"
   ]
  },
  {
   "cell_type": "code",
   "execution_count": 37,
   "metadata": {},
   "outputs": [
    {
     "name": "stdout",
     "output_type": "stream",
     "text": [
      "\n",
      "10\n",
      "20\n",
      "56\n",
      "35\n",
      "17\n",
      "99\n",
      "\n"
     ]
    }
   ],
   "source": [
    "#Problem: Program to create a bytearray from a list\n",
    "print()\n",
    "nums = [10, 20, 56, 35, 17, 99]\n",
    "# Create bytearray from list of integers.\n",
    "values = bytearray(nums)\n",
    "for x in values: print(x)\n",
    "print()"
   ]
  },
  {
   "cell_type": "code",
   "execution_count": 38,
   "metadata": {},
   "outputs": [
    {
     "name": "stdout",
     "output_type": "stream",
     "text": [
      "\n",
      "The total order amount comes to 212.374000\n",
      "The total order amount comes to 212.37\n",
      "\n"
     ]
    }
   ],
   "source": [
    "#Problem: Program to display a floating number in specified numbers\n",
    "order_amt = 212.374\n",
    "print('\\nThe total order amount comes to %f' % order_amt)\n",
    "print('The total order amount comes to %.2f' % order_amt)\n",
    "print()"
   ]
  },
  {
   "cell_type": "code",
   "execution_count": 39,
   "metadata": {},
   "outputs": [
    {
     "name": "stdout",
     "output_type": "stream",
     "text": [
      "\n",
      "123456\n",
      "\n"
     ]
    }
   ],
   "source": [
    "#Problem: Program to format a specified string to limit the number of characters to 6\n",
    "str_num = \"1234567890\"\n",
    "print()\n",
    "print('%.6s' % str_num)\n",
    "print()"
   ]
  },
  {
   "cell_type": "code",
   "execution_count": 40,
   "metadata": {},
   "outputs": [
    {
     "name": "stdout",
     "output_type": "stream",
     "text": [
      "Variable is defined.\n",
      "Variable is defined.\n"
     ]
    }
   ],
   "source": [
    "#Problem: Program to determine whether variable is defined or not\n",
    "try:\n",
    "  x = 1\n",
    "except NameError:\n",
    "  print(\"Variable is not defined....!\")\n",
    "else:\n",
    "  print(\"Variable is defined.\")\n",
    "try:\n",
    "  y\n",
    "except NameError:\n",
    "  print(\"Variable is not defined....!\")\n",
    "else:\n",
    "  print(\"Variable is defined.\")"
   ]
  },
  {
   "cell_type": "code",
   "execution_count": 43,
   "metadata": {},
   "outputs": [
    {
     "name": "stdout",
     "output_type": "stream",
     "text": [
      "0\n",
      "{}\n",
      "[]\n",
      "()\n"
     ]
    }
   ],
   "source": [
    "#Problem: Program to empty a variable without destroying it\n",
    "n = 20\n",
    "d = {\"x\":200}\n",
    "l = [1,3,5]\n",
    "t= (5,7,8)\n",
    "print(type(n)())\n",
    "print(type(d)())\n",
    "print(type(l)())\n",
    "print(type(t)())"
   ]
  },
  {
   "cell_type": "code",
   "execution_count": 44,
   "metadata": {},
   "outputs": [
    {
     "name": "stdout",
     "output_type": "stream",
     "text": [
      "Float value information:  sys.float_info(max=1.7976931348623157e+308, max_exp=1024, max_10_exp=308, min=2.2250738585072014e-308, min_exp=-1021, min_10_exp=-307, dig=15, mant_dig=53, epsilon=2.220446049250313e-16, radix=2, rounds=1)\n",
      "\n",
      "Integer value information:  sys.int_info(bits_per_digit=30, sizeof_digit=4)\n",
      "\n",
      "Maximum size of an integer:  9223372036854775807\n"
     ]
    }
   ],
   "source": [
    "#Problem: Program to determine the largest and smallest integers, longs, floats\n",
    "import sys\n",
    "print(\"Float value information: \",sys.float_info)\n",
    "print(\"\\nInteger value information: \",sys.int_info)\n",
    "print(\"\\nMaximum size of an integer: \",sys.maxsize)"
   ]
  },
  {
   "cell_type": "code",
   "execution_count": 45,
   "metadata": {},
   "outputs": [
    {
     "name": "stdout",
     "output_type": "stream",
     "text": [
      "All variables have same value!\n"
     ]
    }
   ],
   "source": [
    "#Problem: Program to check whether multiple variables have the same value\n",
    "x = 20\n",
    "y = 20\n",
    "z = 20\n",
    "if x == y == z == 20:\n",
    "    print(\"All variables have same value!\")"
   ]
  },
  {
   "cell_type": "code",
   "execution_count": 46,
   "metadata": {},
   "outputs": [
    {
     "name": "stdout",
     "output_type": "stream",
     "text": [
      "9\n"
     ]
    }
   ],
   "source": [
    "#Problem: Program to sum of all counts in a collections\n",
    "import collections\n",
    "num = [2,2,4,6,6,8,6,10,4]\n",
    "print(sum(collections.Counter(num).values()))"
   ]
  },
  {
   "cell_type": "code",
   "execution_count": 47,
   "metadata": {},
   "outputs": [
    {
     "name": "stdout",
     "output_type": "stream",
     "text": [
      "<module 'math' (built-in)>\n"
     ]
    }
   ],
   "source": [
    "#Problem: Program to get the actual module object for a given object\n",
    "from inspect import getmodule\n",
    "from math import sqrt\n",
    "print(getmodule(sqrt))"
   ]
  },
  {
   "cell_type": "code",
   "execution_count": 48,
   "metadata": {},
   "outputs": [
    {
     "name": "stdout",
     "output_type": "stream",
     "text": [
      "64\n",
      "64\n"
     ]
    }
   ],
   "source": [
    "#Problem: Program to check whether an integer fits in 64 bits\n",
    "int_val = 30\n",
    "if int_val.bit_length() <= 63:\n",
    "    print((-2 ** 63).bit_length())\n",
    "    print((2 ** 63).bit_length())"
   ]
  },
  {
   "cell_type": "code",
   "execution_count": 49,
   "metadata": {},
   "outputs": [
    {
     "name": "stdout",
     "output_type": "stream",
     "text": [
      "True\n"
     ]
    }
   ],
   "source": [
    "#Problem: Program to check whether lowercase letters exist in a string\n",
    "str1 = 'A8238i823acdeOUEI'\n",
    "print(any(c.islower() for c in str1))"
   ]
  },
  {
   "cell_type": "code",
   "execution_count": 50,
   "metadata": {},
   "outputs": [
    {
     "name": "stdout",
     "output_type": "stream",
     "text": [
      "Original String:  122.22\n",
      "\n",
      "Added trailing zeros:\n",
      "122.2200\n",
      "122.220000\n",
      "\n",
      "Added leading zeros:\n",
      "00122.22\n",
      "0000122.22\n"
     ]
    }
   ],
   "source": [
    "#Problem: Program to add trailing and leading zeroes to a string\n",
    "str1='122.22'\n",
    "print(\"Original String: \",str1)\n",
    "print(\"\\nAdded trailing zeros:\")\n",
    "str1 = str1.ljust(8, '0')\n",
    "print(str1)\n",
    "str1 = str1.ljust(10, '0')\n",
    "print(str1)\n",
    "print(\"\\nAdded leading zeros:\")\n",
    "str1='122.22'\n",
    "str1 = str1.rjust(8, '0')\n",
    "print(str1)\n",
    "str1 = str1.rjust(10, '0')\n",
    "print(str1)"
   ]
  },
  {
   "cell_type": "code",
   "execution_count": 51,
   "metadata": {},
   "outputs": [
    {
     "name": "stdout",
     "output_type": "stream",
     "text": [
      "{\"Alex\": 1, \"Suresh\": 2, \"Agnessa\": 3}\n"
     ]
    }
   ],
   "source": [
    "#Problem: Program to use double quotes to display strings\n",
    "import json\n",
    "print(json.dumps({'Alex': 1, 'Suresh': 2, 'Agnessa': 3}))"
   ]
  },
  {
   "cell_type": "code",
   "execution_count": 52,
   "metadata": {},
   "outputs": [
    {
     "name": "stdout",
     "output_type": "stream",
     "text": [
      "a b c\n",
      "100 20.25\n"
     ]
    }
   ],
   "source": [
    "#Problem: Program to split a variable length string into variables\n",
    "var_list = ['a', 'b', 'c']\n",
    "x, y, z = (var_list + [None] * 3)[:3]\n",
    "print(x, y, z)\n",
    "var_list = [100, 20.25]\n",
    "x, y = (var_list + [None] * 2)[:2]\n",
    "print(x, y)"
   ]
  },
  {
   "cell_type": "code",
   "execution_count": 53,
   "metadata": {},
   "outputs": [
    {
     "name": "stdout",
     "output_type": "stream",
     "text": [
      "C:\\Users\\Rudy\n"
     ]
    }
   ],
   "source": [
    "#Problem: Program to list home directory without absolute path\n",
    "import os.path\n",
    "print(os.path.expanduser('~'))"
   ]
  },
  {
   "cell_type": "code",
   "execution_count": 54,
   "metadata": {},
   "outputs": [
    {
     "name": "stdout",
     "output_type": "stream",
     "text": [
      "0\n",
      "1\n",
      "2\n",
      "3\n",
      "4\n",
      "0.00030390000029001385\n",
      "0\n",
      "1\n",
      "2\n",
      "3\n",
      "4\n",
      "5\n",
      "6\n",
      "7\n",
      "8\n",
      "9\n",
      "10\n",
      "11\n",
      "12\n",
      "13\n",
      "14\n",
      "0.0014266000071074814\n"
     ]
    }
   ],
   "source": [
    "#Problem: Program to calculate the time runs (difference between start and current time) of a program\n",
    "from timeit import default_timer\n",
    "def timer(n):\n",
    "    start = default_timer()\n",
    "    # some code here\n",
    "    for row in range(0,n):\n",
    "        print(row)\n",
    "    print(default_timer() - start)\n",
    "\n",
    "timer(5)\n",
    "timer(15)"
   ]
  },
  {
   "cell_type": "code",
   "execution_count": 57,
   "metadata": {},
   "outputs": [
    {
     "name": "stdout",
     "output_type": "stream",
     "text": [
      "Input the value of x & y\n",
      "2 4\n",
      "The value of x & y are:  2 4\n"
     ]
    }
   ],
   "source": [
    "#Problem: Program to input two integers in a single line\n",
    "print(\"Input the value of x & y\")\n",
    "x, y = map(int, input().split())\n",
    "print(\"The value of x & y are: \",x,y)"
   ]
  },
  {
   "cell_type": "code",
   "execution_count": 58,
   "metadata": {},
   "outputs": [
    {
     "name": "stdout",
     "output_type": "stream",
     "text": [
      "Value of x is \"30\"\n"
     ]
    }
   ],
   "source": [
    "#Problem: Program to print a variable without spaces between values\n",
    "#Sample value : x =30\n",
    "#Expected output : Value of x is \"30\"\n",
    "x = 30\n",
    "print('Value of x is \"{}\"'.format(x))"
   ]
  },
  {
   "cell_type": "code",
   "execution_count": 67,
   "metadata": {},
   "outputs": [
    {
     "name": "stdout",
     "output_type": "stream",
     "text": [
      "['.condarc', '.gitconfig', '.python_history', 'abc.txt', 'file.json', 'file.pkl', 'NTUSER.DAT', 'ntuser.dat.LOG1', 'ntuser.dat.LOG2', 'NTUSER.DAT{43c79d93-b464-11ea-9b91-865c1eb8b180}.TM.blf', 'NTUSER.DAT{43c79d93-b464-11ea-9b91-865c1eb8b180}.TMContainer00000000000000000001.regtrans-ms', 'NTUSER.DAT{43c79d93-b464-11ea-9b91-865c1eb8b180}.TMContainer00000000000000000002.regtrans-ms', 'ntuser.ini', 'Practice.ipynb', 'Untitled.ipynb', 'Untitled2.ipynb', 'Untitled3.ipynb', 'w3resource Basic Part 1 Python Practice.ipynb']\n"
     ]
    }
   ],
   "source": [
    "#Problem: Program to find files and skip directories of a given directory\n",
    "import os\n",
    "print([f for f in os.listdir('/Users/Rudy') if os.path.isfile(os.path.join('/Users/Rudy', f))])"
   ]
  },
  {
   "cell_type": "code",
   "execution_count": 68,
   "metadata": {},
   "outputs": [
    {
     "name": "stdout",
     "output_type": "stream",
     "text": [
      "Red\n",
      "Green\n"
     ]
    }
   ],
   "source": [
    "#Problem: Program to extract single key-value pair of a dictionary in variables\n",
    "d = {'Red': 'Green'}\n",
    "(c1, c2), = d.items()\n",
    "print(c1)\n",
    "print(c2)"
   ]
  },
  {
   "cell_type": "code",
   "execution_count": 69,
   "metadata": {},
   "outputs": [
    {
     "name": "stdout",
     "output_type": "stream",
     "text": [
      "1\n",
      "0\n"
     ]
    }
   ],
   "source": [
    "#Problem: Program to convert true to 1 and false to 0\n",
    "x = 'true'\n",
    "x = int(x == 'true')\n",
    "print(x)\n",
    "x = 'abcd'\n",
    "x = int(x == 'true')\n",
    "print(x)"
   ]
  },
  {
   "cell_type": "code",
   "execution_count": 70,
   "metadata": {},
   "outputs": [
    {
     "name": "stdout",
     "output_type": "stream",
     "text": [
      "Invalid IP\n"
     ]
    }
   ],
   "source": [
    "#Problem: Program to valid a IP address\n",
    "import socket\n",
    "addr = '127.0.0.2561'\n",
    "try:\n",
    "    socket.inet_aton(addr)\n",
    "    print(\"Valid IP\")\n",
    "except socket.error:\n",
    "    print(\"Invalid IP\")"
   ]
  },
  {
   "cell_type": "code",
   "execution_count": 71,
   "metadata": {},
   "outputs": [
    {
     "name": "stdout",
     "output_type": "stream",
     "text": [
      "00001100\n",
      "0000001100\n"
     ]
    }
   ],
   "source": [
    "#Problem: Program to convert an integer to binary keep leading zeros\n",
    "#Sample data : x=12\n",
    "#Expected output : 00001100 0000001100\n",
    "x = 12\n",
    "print(format(x, '08b'))\n",
    "print(format(x, '010b'))"
   ]
  },
  {
   "cell_type": "code",
   "execution_count": 72,
   "metadata": {},
   "outputs": [
    {
     "name": "stdout",
     "output_type": "stream",
     "text": [
      "1e\n",
      "04\n"
     ]
    }
   ],
   "source": [
    "#Problem: Program to convert decimal to hexadecimal\n",
    "#Sample decimal number: 30, 4\n",
    "#Expected output: 1e, 04\n",
    "x = 30\n",
    "print(format(x, '02x'))\n",
    "x = 4\n",
    "print(format(x, '02x'))"
   ]
  },
  {
   "cell_type": "code",
   "execution_count": 74,
   "metadata": {},
   "outputs": [
    {
     "name": "stdout",
     "output_type": "stream",
     "text": [
      "Operating system name:\n",
      "nt\n",
      "Platform name:\n",
      "Windows\n",
      "Platform release:\n",
      "10\n"
     ]
    }
   ],
   "source": [
    "#Problem: Program to find the operating system name, platform and platform release date\n",
    "#Operating system name:\n",
    "#nt\n",
    "#Platform name:\n",
    "#Windows\n",
    "#Platform release:\n",
    "#10\n",
    "import os, platform\n",
    "print(\"Operating system name:\")\n",
    "print(os.name)\n",
    "print(\"Platform name:\")\n",
    "print(platform.system())\n",
    "print(\"Platform release:\")\n",
    "print(platform.release())"
   ]
  },
  {
   "cell_type": "code",
   "execution_count": 75,
   "metadata": {},
   "outputs": [
    {
     "name": "stdout",
     "output_type": "stream",
     "text": [
      "64\n"
     ]
    }
   ],
   "source": [
    "#Problem: Program to determine if the python shell is executing in 32bit or 64bit mode on operating system\n",
    "import struct\n",
    "print(struct.calcsize(\"P\") * 8)"
   ]
  },
  {
   "cell_type": "code",
   "execution_count": 78,
   "metadata": {},
   "outputs": [
    {
     "name": "stdout",
     "output_type": "stream",
     "text": [
      "True\n"
     ]
    },
    {
     "ename": "TypeError",
     "evalue": "isinstance() arg 2 must be a type or tuple of types",
     "output_type": "error",
     "traceback": [
      "\u001b[1;31m---------------------------------------------------------------------------\u001b[0m",
      "\u001b[1;31mTypeError\u001b[0m                                 Traceback (most recent call last)",
      "\u001b[1;32m<ipython-input-78-ad5694a45e41>\u001b[0m in \u001b[0;36m<module>\u001b[1;34m\u001b[0m\n\u001b[0;32m      1\u001b[0m \u001b[1;31m#Problem: Program to check whether variable is of integer or string\u001b[0m\u001b[1;33m\u001b[0m\u001b[1;33m\u001b[0m\u001b[1;33m\u001b[0m\u001b[0m\n\u001b[0;32m      2\u001b[0m \u001b[0mprint\u001b[0m\u001b[1;33m(\u001b[0m\u001b[0misinstance\u001b[0m\u001b[1;33m(\u001b[0m\u001b[1;36m25\u001b[0m\u001b[1;33m,\u001b[0m\u001b[0mint\u001b[0m\u001b[1;33m)\u001b[0m \u001b[1;32mor\u001b[0m \u001b[0misinstance\u001b[0m\u001b[1;33m(\u001b[0m\u001b[1;36m25\u001b[0m\u001b[1;33m,\u001b[0m\u001b[0mstr\u001b[0m\u001b[1;33m)\u001b[0m\u001b[1;33m)\u001b[0m\u001b[1;33m\u001b[0m\u001b[1;33m\u001b[0m\u001b[0m\n\u001b[1;32m----> 3\u001b[1;33m \u001b[0mprint\u001b[0m\u001b[1;33m(\u001b[0m\u001b[0misinstance\u001b[0m\u001b[1;33m(\u001b[0m\u001b[1;33m[\u001b[0m\u001b[1;36m25\u001b[0m\u001b[1;33m]\u001b[0m\u001b[1;33m,\u001b[0m\u001b[0mint\u001b[0m\u001b[1;33m)\u001b[0m \u001b[1;32mor\u001b[0m \u001b[0misinstance\u001b[0m\u001b[1;33m(\u001b[0m\u001b[1;33m[\u001b[0m\u001b[1;36m25\u001b[0m\u001b[1;33m]\u001b[0m\u001b[1;33m,\u001b[0m\u001b[0mstr\u001b[0m\u001b[1;33m)\u001b[0m\u001b[1;33m)\u001b[0m\u001b[1;33m\u001b[0m\u001b[1;33m\u001b[0m\u001b[0m\n\u001b[0m\u001b[0;32m      4\u001b[0m \u001b[0mprint\u001b[0m\u001b[1;33m(\u001b[0m\u001b[0misinstance\u001b[0m\u001b[1;33m(\u001b[0m\u001b[1;34m\"25\"\u001b[0m\u001b[1;33m,\u001b[0m\u001b[0mint\u001b[0m\u001b[1;33m)\u001b[0m \u001b[1;32mor\u001b[0m \u001b[0misinstance\u001b[0m\u001b[1;33m(\u001b[0m\u001b[1;34m\"25\"\u001b[0m\u001b[1;33m,\u001b[0m\u001b[0mstr\u001b[0m\u001b[1;33m)\u001b[0m\u001b[1;33m)\u001b[0m\u001b[1;33m\u001b[0m\u001b[1;33m\u001b[0m\u001b[0m\n",
      "\u001b[1;31mTypeError\u001b[0m: isinstance() arg 2 must be a type or tuple of types"
     ]
    }
   ],
   "source": [
    "#Problem: Program to check whether variable is of integer or string\n",
    "print(isinstance(25,int) or isinstance(25,str))\n",
    "print(isinstance([25],int) or isinstance([25],str))\n",
    "print(isinstance(\"25\",int) or isinstance(\"25\",str))"
   ]
  },
  {
   "cell_type": "code",
   "execution_count": 79,
   "metadata": {},
   "outputs": [
    {
     "name": "stdout",
     "output_type": "stream",
     "text": [
      "\n",
      "List of directories in sys module:\n",
      "['C:\\\\Users\\\\Rudy', 'C:\\\\Users\\\\Rudy\\\\Anaconda3\\\\python37.zip', 'C:\\\\Users\\\\Rudy\\\\Anaconda3\\\\DLLs', 'C:\\\\Users\\\\Rudy\\\\Anaconda3\\\\lib', 'C:\\\\Users\\\\Rudy\\\\Anaconda3', '', 'C:\\\\Users\\\\Rudy\\\\AppData\\\\Roaming\\\\Python\\\\Python37\\\\site-packages', 'C:\\\\Users\\\\Rudy\\\\Anaconda3\\\\lib\\\\site-packages', 'C:\\\\Users\\\\Rudy\\\\Anaconda3\\\\lib\\\\site-packages\\\\win32', 'C:\\\\Users\\\\Rudy\\\\Anaconda3\\\\lib\\\\site-packages\\\\win32\\\\lib', 'C:\\\\Users\\\\Rudy\\\\Anaconda3\\\\lib\\\\site-packages\\\\Pythonwin', 'C:\\\\Users\\\\Rudy\\\\Anaconda3\\\\lib\\\\site-packages\\\\IPython\\\\extensions', 'C:\\\\Users\\\\Rudy\\\\.ipython']\n",
      "\n",
      "List of directories in os module:\n",
      "<module 'ntpath' from 'C:\\\\Users\\\\Rudy\\\\Anaconda3\\\\lib\\\\ntpath.py'>\n"
     ]
    }
   ],
   "source": [
    "#Problem: Program to find the location of Python module sources\n",
    "import sys\n",
    "print(\"\\nList of directories in sys module:\")\n",
    "print(sys.path)\n",
    "print(\"\\nList of directories in os module:\")\n",
    "import os\n",
    "print(os.path)"
   ]
  },
  {
   "cell_type": "code",
   "execution_count": 81,
   "metadata": {},
   "outputs": [
    {
     "name": "stdout",
     "output_type": "stream",
     "text": [
      "True\n",
      "False\n"
     ]
    }
   ],
   "source": [
    "#Problem: Function to check whether a number is divisible by another number. Accept two integers values form the user\n",
    "def multiple(m, n):\n",
    "    return True if m % n == 0 else False\n",
    "\n",
    "print(multiple(20, 5))\n",
    "print(multiple(7, 2))"
   ]
  },
  {
   "cell_type": "code",
   "execution_count": 83,
   "metadata": {},
   "outputs": [
    {
     "name": "stdout",
     "output_type": "stream",
     "text": [
      "(75, -5)\n"
     ]
    }
   ],
   "source": [
    "#Problem: Function to find the maximum and minimum numbers from a sequence of numbers\n",
    "#Note: Do not use built-in functions.\n",
    "def max_min(data):\n",
    "  l = data[0]\n",
    "  s = data[0]\n",
    "  for num in data:\n",
    "    if num> l:\n",
    "      l = num\n",
    "    elif num< s:\n",
    "        s = num\n",
    "  return l, s\n",
    "\n",
    "print(max_min([0, 10, 15, 40, -5, 42, 17, 28, 75]))"
   ]
  },
  {
   "cell_type": "code",
   "execution_count": 84,
   "metadata": {},
   "outputs": [
    {
     "name": "stdout",
     "output_type": "stream",
     "text": [
      "Sum of cubes:  9\n"
     ]
    }
   ],
   "source": [
    "#Problem: Function that takes a positive integer and returns the sum of the cube of all the positive integers \n",
    "#smaller than the specified number\n",
    "def sum_of_cubes(n):\n",
    "  n -= 1\n",
    "  total = 0\n",
    "  while n > 0:\n",
    "    total += n * n * n\n",
    "    n -= 1\n",
    "  return total\n",
    "print(\"Sum of cubes: \",sum_of_cubes(3))"
   ]
  },
  {
   "cell_type": "code",
   "execution_count": 85,
   "metadata": {},
   "outputs": [
    {
     "name": "stdout",
     "output_type": "stream",
     "text": [
      "[2, 4, 6, 8] None\n",
      "[1, 6, 4, 7, 8] True\n"
     ]
    }
   ],
   "source": [
    "#Problem: Function to find a distinct pair of numbers whose product is odd from a sequence of integer values\n",
    "def odd_product(nums):\n",
    "  for i in range(len(nums)):\n",
    "    for j in range(len(nums)):\n",
    "      if  i != j:\n",
    "        product = nums[i] * nums[j]\n",
    "        if product & 1:\n",
    "          return True\n",
    "          return False\n",
    "          \n",
    "dt1 = [2, 4, 6, 8]\n",
    "dt2 = [1, 6, 4, 7, 8]\n",
    "print(dt1, odd_product(dt1));\n",
    "print(dt2, odd_product(dt2));"
   ]
  },
  {
   "cell_type": "code",
   "execution_count": null,
   "metadata": {},
   "outputs": [],
   "source": []
  }
 ],
 "metadata": {
  "kernelspec": {
   "display_name": "Python 3",
   "language": "python",
   "name": "python3"
  },
  "language_info": {
   "codemirror_mode": {
    "name": "ipython",
    "version": 3
   },
   "file_extension": ".py",
   "mimetype": "text/x-python",
   "name": "python",
   "nbconvert_exporter": "python",
   "pygments_lexer": "ipython3",
   "version": "3.7.4"
  }
 },
 "nbformat": 4,
 "nbformat_minor": 2
}
